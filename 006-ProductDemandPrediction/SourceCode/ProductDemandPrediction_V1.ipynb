{
 "cells": [
  {
   "cell_type": "code",
   "execution_count": 1,
   "metadata": {},
   "outputs": [
    {
     "name": "stdout",
     "output_type": "stream",
     "text": [
      "PhysicalDevice(name='/physical_device:GPU:0', device_type='GPU')\n"
     ]
    }
   ],
   "source": [
    "import tensorflow as tf\n",
    "gpu = tf.config.experimental.list_physical_devices('GPU')\n",
    "tf.config.experimental.set_memory_growth(gpu[0], True)\n",
    "print(gpu[0])"
   ]
  },
  {
   "attachments": {},
   "cell_type": "markdown",
   "metadata": {},
   "source": [
    "# 1. Import Libraries"
   ]
  },
  {
   "cell_type": "code",
   "execution_count": 2,
   "metadata": {},
   "outputs": [],
   "source": [
    "import math\n",
    "import numpy as np\n",
    "import pandas as pd\n",
    "import seaborn as sns\n",
    "import plotly.express as px\n",
    "import matplotlib.pyplot as plt\n",
    "from geopy.distance import distance\n",
    "\n",
    "from tensorflow import keras\n",
    "from tensorflow.keras.models import Sequential\n",
    "from tensorflow.keras.models import load_model\n",
    "from tensorflow.keras.callbacks import ModelCheckpoint\n",
    "from tensorflow.keras.callbacks import ReduceLROnPlateau\n",
    "from tensorflow.keras.optimizers import SGD, Adam,  RMSprop, Nadam\n",
    "from tensorflow.keras.layers import Dense, Flatten,  LSTM, GRU, LeakyReLU, Dropout, Bidirectional\n",
    "\n",
    "from sklearn.preprocessing import LabelEncoder\n",
    "from sklearn.metrics import classification_report \n",
    "from sklearn.model_selection import train_test_split\n",
    "from sklearn.metrics import mean_squared_error, r2_score\n",
    "from sklearn.preprocessing import  MinMaxScaler, PowerTransformer\n",
    "\n",
    "from sklearn.tree import DecisionTreeRegressor\n",
    "from sklearn.neighbors import KNeighborsRegressor\n",
    "from sklearn.ensemble import (\n",
    "    AdaBoostRegressor,\n",
    "    BaggingRegressor,\n",
    "    ExtraTreesRegressor,\n",
    "    GradientBoostingRegressor, \n",
    "    HistGradientBoostingRegressor,\n",
    "    RandomForestRegressor,\n",
    "    StackingRegressor,\n",
    ")\n",
    "from xgboost import XGBRegressor\n",
    "\n",
    "from prophet import Prophet\n",
    "from prophet.plot import plot_plotly, plot_components_plotly\n"
   ]
  },
  {
   "attachments": {},
   "cell_type": "markdown",
   "metadata": {},
   "source": [
    "# 2. Load Data"
   ]
  },
  {
   "cell_type": "code",
   "execution_count": 5,
   "metadata": {},
   "outputs": [
    {
     "data": {
      "text/html": [
       "<div>\n",
       "<style scoped>\n",
       "    .dataframe tbody tr th:only-of-type {\n",
       "        vertical-align: middle;\n",
       "    }\n",
       "\n",
       "    .dataframe tbody tr th {\n",
       "        vertical-align: top;\n",
       "    }\n",
       "\n",
       "    .dataframe thead th {\n",
       "        text-align: right;\n",
       "    }\n",
       "</style>\n",
       "<table border=\"1\" class=\"dataframe\">\n",
       "  <thead>\n",
       "    <tr style=\"text-align: right;\">\n",
       "      <th></th>\n",
       "      <th>Total Price</th>\n",
       "      <th>Base Price</th>\n",
       "      <th>Units Sold</th>\n",
       "    </tr>\n",
       "  </thead>\n",
       "  <tbody>\n",
       "    <tr>\n",
       "      <th>0</th>\n",
       "      <td>99.0375</td>\n",
       "      <td>111.8625</td>\n",
       "      <td>20</td>\n",
       "    </tr>\n",
       "    <tr>\n",
       "      <th>1</th>\n",
       "      <td>99.0375</td>\n",
       "      <td>99.0375</td>\n",
       "      <td>28</td>\n",
       "    </tr>\n",
       "    <tr>\n",
       "      <th>2</th>\n",
       "      <td>133.9500</td>\n",
       "      <td>133.9500</td>\n",
       "      <td>19</td>\n",
       "    </tr>\n",
       "    <tr>\n",
       "      <th>4</th>\n",
       "      <td>141.0750</td>\n",
       "      <td>141.0750</td>\n",
       "      <td>52</td>\n",
       "    </tr>\n",
       "    <tr>\n",
       "      <th>5</th>\n",
       "      <td>227.2875</td>\n",
       "      <td>227.2875</td>\n",
       "      <td>18</td>\n",
       "    </tr>\n",
       "    <tr>\n",
       "      <th>...</th>\n",
       "      <td>...</td>\n",
       "      <td>...</td>\n",
       "      <td>...</td>\n",
       "    </tr>\n",
       "    <tr>\n",
       "      <th>150048</th>\n",
       "      <td>158.8875</td>\n",
       "      <td>217.3125</td>\n",
       "      <td>262</td>\n",
       "    </tr>\n",
       "    <tr>\n",
       "      <th>150055</th>\n",
       "      <td>357.6750</td>\n",
       "      <td>483.7875</td>\n",
       "      <td>34</td>\n",
       "    </tr>\n",
       "    <tr>\n",
       "      <th>150061</th>\n",
       "      <td>175.9875</td>\n",
       "      <td>174.5625</td>\n",
       "      <td>107</td>\n",
       "    </tr>\n",
       "    <tr>\n",
       "      <th>150080</th>\n",
       "      <td>165.3000</td>\n",
       "      <td>194.5125</td>\n",
       "      <td>268</td>\n",
       "    </tr>\n",
       "    <tr>\n",
       "      <th>150106</th>\n",
       "      <td>164.5875</td>\n",
       "      <td>238.6875</td>\n",
       "      <td>178</td>\n",
       "    </tr>\n",
       "  </tbody>\n",
       "</table>\n",
       "<p>9160 rows × 3 columns</p>\n",
       "</div>"
      ],
      "text/plain": [
       "        Total Price  Base Price  Units Sold\n",
       "0           99.0375    111.8625          20\n",
       "1           99.0375     99.0375          28\n",
       "2          133.9500    133.9500          19\n",
       "4          141.0750    141.0750          52\n",
       "5          227.2875    227.2875          18\n",
       "...             ...         ...         ...\n",
       "150048     158.8875    217.3125         262\n",
       "150055     357.6750    483.7875          34\n",
       "150061     175.9875    174.5625         107\n",
       "150080     165.3000    194.5125         268\n",
       "150106     164.5875    238.6875         178\n",
       "\n",
       "[9160 rows x 3 columns]"
      ]
     },
     "execution_count": 5,
     "metadata": {},
     "output_type": "execute_result"
    }
   ],
   "source": [
    "data = pd.read_csv('../Dataset/demand.csv').dropna()\n",
    "data = data.drop_duplicates(subset=['Total Price', 'Base Price'])\n",
    "data = data.drop(columns=['ID', 'Store ID'])\n",
    "data"
   ]
  },
  {
   "attachments": {},
   "cell_type": "markdown",
   "metadata": {},
   "source": [
    "# 3. Initial Analysis"
   ]
  },
  {
   "attachments": {},
   "cell_type": "markdown",
   "metadata": {},
   "source": [
    "### 3.1. Metadata"
   ]
  },
  {
   "cell_type": "code",
   "execution_count": 6,
   "metadata": {},
   "outputs": [
    {
     "name": "stdout",
     "output_type": "stream",
     "text": [
      "<class 'pandas.core.frame.DataFrame'>\n",
      "Int64Index: 9160 entries, 0 to 150106\n",
      "Data columns (total 3 columns):\n",
      " #   Column       Non-Null Count  Dtype  \n",
      "---  ------       --------------  -----  \n",
      " 0   Total Price  9160 non-null   float64\n",
      " 1   Base Price   9160 non-null   float64\n",
      " 2   Units Sold   9160 non-null   int64  \n",
      "dtypes: float64(2), int64(1)\n",
      "memory usage: 286.2 KB\n"
     ]
    }
   ],
   "source": [
    "data.info()"
   ]
  },
  {
   "cell_type": "code",
   "execution_count": 7,
   "metadata": {},
   "outputs": [
    {
     "data": {
      "text/html": [
       "<div>\n",
       "<style scoped>\n",
       "    .dataframe tbody tr th:only-of-type {\n",
       "        vertical-align: middle;\n",
       "    }\n",
       "\n",
       "    .dataframe tbody tr th {\n",
       "        vertical-align: top;\n",
       "    }\n",
       "\n",
       "    .dataframe thead th {\n",
       "        text-align: right;\n",
       "    }\n",
       "</style>\n",
       "<table border=\"1\" class=\"dataframe\">\n",
       "  <thead>\n",
       "    <tr style=\"text-align: right;\">\n",
       "      <th></th>\n",
       "      <th>count</th>\n",
       "      <th>mean</th>\n",
       "      <th>std</th>\n",
       "      <th>min</th>\n",
       "      <th>25%</th>\n",
       "      <th>50%</th>\n",
       "      <th>75%</th>\n",
       "      <th>max</th>\n",
       "    </tr>\n",
       "  </thead>\n",
       "  <tbody>\n",
       "    <tr>\n",
       "      <th>Total Price</th>\n",
       "      <td>9160.0</td>\n",
       "      <td>189.144404</td>\n",
       "      <td>87.496012</td>\n",
       "      <td>41.325</td>\n",
       "      <td>133.9500</td>\n",
       "      <td>174.5625</td>\n",
       "      <td>213.0375</td>\n",
       "      <td>562.1625</td>\n",
       "    </tr>\n",
       "    <tr>\n",
       "      <th>Base Price</th>\n",
       "      <td>9160.0</td>\n",
       "      <td>232.403343</td>\n",
       "      <td>99.597821</td>\n",
       "      <td>61.275</td>\n",
       "      <td>177.4125</td>\n",
       "      <td>218.7375</td>\n",
       "      <td>242.2500</td>\n",
       "      <td>562.1625</td>\n",
       "    </tr>\n",
       "    <tr>\n",
       "      <th>Units Sold</th>\n",
       "      <td>9160.0</td>\n",
       "      <td>88.434279</td>\n",
       "      <td>110.361964</td>\n",
       "      <td>1.000</td>\n",
       "      <td>28.0000</td>\n",
       "      <td>52.0000</td>\n",
       "      <td>104.0000</td>\n",
       "      <td>1341.0000</td>\n",
       "    </tr>\n",
       "  </tbody>\n",
       "</table>\n",
       "</div>"
      ],
      "text/plain": [
       "              count        mean         std     min       25%       50%  \\\n",
       "Total Price  9160.0  189.144404   87.496012  41.325  133.9500  174.5625   \n",
       "Base Price   9160.0  232.403343   99.597821  61.275  177.4125  218.7375   \n",
       "Units Sold   9160.0   88.434279  110.361964   1.000   28.0000   52.0000   \n",
       "\n",
       "                  75%        max  \n",
       "Total Price  213.0375   562.1625  \n",
       "Base Price   242.2500   562.1625  \n",
       "Units Sold   104.0000  1341.0000  "
      ]
     },
     "execution_count": 7,
     "metadata": {},
     "output_type": "execute_result"
    }
   ],
   "source": [
    "data.describe().transpose()"
   ]
  },
  {
   "cell_type": "code",
   "execution_count": 8,
   "metadata": {},
   "outputs": [
    {
     "data": {
      "text/plain": [
       "Total Price    0\n",
       "Base Price     0\n",
       "Units Sold     0\n",
       "dtype: int64"
      ]
     },
     "execution_count": 8,
     "metadata": {},
     "output_type": "execute_result"
    }
   ],
   "source": [
    "data.isnull().sum()"
   ]
  },
  {
   "cell_type": "code",
   "execution_count": 33,
   "metadata": {},
   "outputs": [
    {
     "data": {
      "text/plain": [
       "95173"
      ]
     },
     "execution_count": 33,
     "metadata": {},
     "output_type": "execute_result"
    }
   ],
   "source": [
    "data.duplicated().sum()"
   ]
  },
  {
   "cell_type": "code",
   "execution_count": 9,
   "metadata": {},
   "outputs": [
    {
     "data": {
      "text/plain": [
       "1341"
      ]
     },
     "execution_count": 9,
     "metadata": {},
     "output_type": "execute_result"
    }
   ],
   "source": [
    "data['Units Sold'].max()"
   ]
  },
  {
   "attachments": {},
   "cell_type": "markdown",
   "metadata": {},
   "source": [
    "### 3.2. Columns Processing"
   ]
  },
  {
   "cell_type": "code",
   "execution_count": 10,
   "metadata": {},
   "outputs": [],
   "source": [
    "def change_dtypes(data):\n",
    "    data['Total Price'] = data['Total Price'].astype('float32')\n",
    "    data['Base Price'] = data['Base Price'].astype('float32')\n",
    "    data['Units Sold'] = data['Units Sold'].astype('int16')\n",
    "    return data\n",
    "\n",
    "data = change_dtypes(data)"
   ]
  },
  {
   "cell_type": "code",
   "execution_count": 11,
   "metadata": {},
   "outputs": [
    {
     "name": "stdout",
     "output_type": "stream",
     "text": [
      "Numerical Columns Train   : ['Total Price', 'Base Price', 'Units Sold']\n",
      "Categorical Columns Train : []\n"
     ]
    }
   ],
   "source": [
    "numerical_columns = [column_name for column_name in data.columns if data[column_name].dtype != 'object']\n",
    "categorical_columns = [column_name for column_name in data.columns if data[column_name].dtype == 'object']\n",
    "\n",
    "print(f'Numerical Columns Train   : {numerical_columns}')\n",
    "print(f'Categorical Columns Train : {categorical_columns}')"
   ]
  },
  {
   "attachments": {},
   "cell_type": "markdown",
   "metadata": {},
   "source": [
    "# 4. EDA"
   ]
  },
  {
   "cell_type": "code",
   "execution_count": 12,
   "metadata": {},
   "outputs": [
    {
     "data": {
      "text/plain": [
       "<Axes: xlabel='Units Sold'>"
      ]
     },
     "execution_count": 12,
     "metadata": {},
     "output_type": "execute_result"
    },
    {
     "data": {
      "image/png": "[encoded data removed]",
      "text/plain": [
       "<Figure size 2500x200 with 1 Axes>"
      ]
     },
     "metadata": {},
     "output_type": "display_data"
    }
   ],
   "source": [
    "fig, ax = plt.subplots(figsize=(25, 2))\n",
    "sns.boxplot(x=data['Units Sold'], palette=\"crest\")"
   ]
  },
  {
   "cell_type": "code",
   "execution_count": 13,
   "metadata": {},
   "outputs": [
    {
     "name": "stdout",
     "output_type": "stream",
     "text": [
      "28.0\n",
      "104.0\n"
     ]
    }
   ],
   "source": [
    "print(data['Units Sold'].quantile(0.25))\n",
    "print(data['Units Sold'].quantile(0.75))"
   ]
  },
  {
   "cell_type": "code",
   "execution_count": 14,
   "metadata": {},
   "outputs": [
    {
     "data": {
      "text/plain": [
       "<Axes: xlabel='Units Sold'>"
      ]
     },
     "execution_count": 14,
     "metadata": {},
     "output_type": "execute_result"
    },
    {
     "data": {
      "image/png": "[encoded data removed]",
      "text/plain": [
       "<Figure size 2500x200 with 1 Axes>"
      ]
     },
     "metadata": {},
     "output_type": "display_data"
    }
   ],
   "source": [
    "Q1 = data['Units Sold'].quantile(.25)\n",
    "Q3 = data['Units Sold'].quantile(.75)\n",
    "\n",
    "data = data[(data['Units Sold'] > Q1) & (data['Units Sold'] < Q3)]\n",
    "\n",
    "fig, axes = plt.subplots(figsize=(25, 2))\n",
    "sns.boxplot(x = data['Units Sold'], palette=\"Oranges\")"
   ]
  },
  {
   "cell_type": "code",
   "execution_count": 15,
   "metadata": {},
   "outputs": [
    {
     "data": {
      "image/png": "[encoded data removed]",
      "text/plain": [
       "<Figure size 640x480 with 1 Axes>"
      ]
     },
     "metadata": {},
     "output_type": "display_data"
    }
   ],
   "source": [
    "ax = sns.countplot(data, x = data['Units Sold'])"
   ]
  },
  {
   "cell_type": "code",
   "execution_count": 16,
   "metadata": {},
   "outputs": [
    {
     "data": {
      "text/plain": [
       "Text(0.5, 1.0, 'Correlation Matrix')"
      ]
     },
     "execution_count": 16,
     "metadata": {},
     "output_type": "execute_result"
    },
    {
     "data": {
      "image/png": "[encoded data removed]",
      "text/plain": [
       "<Figure size 1000x500 with 2 Axes>"
      ]
     },
     "metadata": {},
     "output_type": "display_data"
    }
   ],
   "source": [
    "corr_data = data.corr().round(2)\n",
    "\n",
    "plt.figure(figsize=(10, 5))\n",
    "sns.heatmap(corr_data, annot=True, cmap='RdBu')\n",
    "plt.title(\"Correlation Matrix\", size=20)"
   ]
  },
  {
   "attachments": {},
   "cell_type": "markdown",
   "metadata": {},
   "source": [
    "# 5. Regression Algoritms"
   ]
  },
  {
   "cell_type": "code",
   "execution_count": 124,
   "metadata": {},
   "outputs": [
    {
     "name": "stdout",
     "output_type": "stream",
     "text": [
      "(57620, 2)\n",
      "(14405, 2)\n"
     ]
    },
    {
     "name": "stderr",
     "output_type": "stream",
     "text": [
      "c:\\Users\\indiz\\miniconda3\\envs\\gan\\lib\\site-packages\\numpy\\core\\_methods.py:236: RuntimeWarning: overflow encountered in multiply\n",
      "  x = um.multiply(x, x, out=x)\n"
     ]
    }
   ],
   "source": [
    "X = data.drop(columns=['Units Sold'])\n",
    "Y = data['Units Sold']\n",
    "\n",
    "X_train, X_test, y_train, y_test = train_test_split(X, Y, train_size = 0.8, random_state = 42)\n",
    "\n",
    "scalar = PowerTransformer(method='yeo-johnson', standardize=True).fit(X_train)\n",
    "X_train = scalar.transform(X_train)\n",
    "X_test = scalar.transform(X_test)\n",
    "\n",
    "print(X_train.shape)\n",
    "print(X_test.shape)"
   ]
  },
  {
   "cell_type": "code",
   "execution_count": 131,
   "metadata": {},
   "outputs": [],
   "source": [
    "adaboost = AdaBoostRegressor(n_estimators = 100, random_state = 42)\n",
    "bagging = BaggingRegressor(n_jobs = -1)\n",
    "extraTrees = ExtraTreesRegressor(max_depth = 100, n_jobs = -1, random_state = 42)\n",
    "gradient = GradientBoostingRegressor(max_depth = 100, n_estimators = 100, learning_rate = .01,  random_state = 0)\n",
    "randomForest = RandomForestRegressor(max_depth = 100, random_state = 42, n_jobs = -1)\n",
    "histGradientBoosting = HistGradientBoostingRegressor()\n",
    "XGB = XGBRegressor(n_jobs = -1)\n",
    "knn = KNeighborsRegressor(n_jobs = -1)\n",
    "decisionTree = DecisionTreeRegressor( max_depth = 100, random_state = 42)\n",
    "\n",
    "model = StackingRegressor([\n",
    "    # ('bagging', bagging),\n",
    "    ('extraTrees', extraTrees),\n",
    "    # ('randomforest', randomForest),\n",
    "    # ('decisionTree', decisionTree),\n",
    "    # ('adaboost', adaboost),\n",
    "    # ('gradient', gradient),\n",
    "    # ('histGradientBoosting', histGradientBoosting),\n",
    "    # ('XGB', XGB),\n",
    "    # ('knn', knn),\n",
    "\n",
    "], n_jobs=-1)"
   ]
  },
  {
   "cell_type": "code",
   "execution_count": 132,
   "metadata": {},
   "outputs": [
    {
     "data": {
      "text/html": [
       "<style>#sk-container-id-4 {color: black;background-color: white;}#sk-container-id-4 pre{padding: 0;}#sk-container-id-4 div.sk-toggleable {background-color: white;}#sk-container-id-4 label.sk-toggleable__label {cursor: pointer;display: block;width: 100%;margin-bottom: 0;padding: 0.3em;box-sizing: border-box;text-align: center;}#sk-container-id-4 label.sk-toggleable__label-arrow:before {content: \"▸\";float: left;margin-right: 0.25em;color: #696969;}#sk-container-id-4 label.sk-toggleable__label-arrow:hover:before {color: black;}#sk-container-id-4 div.sk-estimator:hover label.sk-toggleable__label-arrow:before {color: black;}#sk-container-id-4 div.sk-toggleable__content {max-height: 0;max-width: 0;overflow: hidden;text-align: left;background-color: #f0f8ff;}#sk-container-id-4 div.sk-toggleable__content pre {margin: 0.2em;color: black;border-radius: 0.25em;background-color: #f0f8ff;}#sk-container-id-4 input.sk-toggleable__control:checked~div.sk-toggleable__content {max-height: 200px;max-width: 100%;overflow: auto;}#sk-container-id-4 input.sk-toggleable__control:checked~label.sk-toggleable__label-arrow:before {content: \"▾\";}#sk-container-id-4 div.sk-estimator input.sk-toggleable__control:checked~label.sk-toggleable__label {background-color: #d4ebff;}#sk-container-id-4 div.sk-label input.sk-toggleable__control:checked~label.sk-toggleable__label {background-color: #d4ebff;}#sk-container-id-4 input.sk-hidden--visually {border: 0;clip: rect(1px 1px 1px 1px);clip: rect(1px, 1px, 1px, 1px);height: 1px;margin: -1px;overflow: hidden;padding: 0;position: absolute;width: 1px;}#sk-container-id-4 div.sk-estimator {font-family: monospace;background-color: #f0f8ff;border: 1px dotted black;border-radius: 0.25em;box-sizing: border-box;margin-bottom: 0.5em;}#sk-container-id-4 div.sk-estimator:hover {background-color: #d4ebff;}#sk-container-id-4 div.sk-parallel-item::after {content: \"\";width: 100%;border-bottom: 1px solid gray;flex-grow: 1;}#sk-container-id-4 div.sk-label:hover label.sk-toggleable__label {background-color: #d4ebff;}#sk-container-id-4 div.sk-serial::before {content: \"\";position: absolute;border-left: 1px solid gray;box-sizing: border-box;top: 0;bottom: 0;left: 50%;z-index: 0;}#sk-container-id-4 div.sk-serial {display: flex;flex-direction: column;align-items: center;background-color: white;padding-right: 0.2em;padding-left: 0.2em;position: relative;}#sk-container-id-4 div.sk-item {position: relative;z-index: 1;}#sk-container-id-4 div.sk-parallel {display: flex;align-items: stretch;justify-content: center;background-color: white;position: relative;}#sk-container-id-4 div.sk-item::before, #sk-container-id-4 div.sk-parallel-item::before {content: \"\";position: absolute;border-left: 1px solid gray;box-sizing: border-box;top: 0;bottom: 0;left: 50%;z-index: -1;}#sk-container-id-4 div.sk-parallel-item {display: flex;flex-direction: column;z-index: 1;position: relative;background-color: white;}#sk-container-id-4 div.sk-parallel-item:first-child::after {align-self: flex-end;width: 50%;}#sk-container-id-4 div.sk-parallel-item:last-child::after {align-self: flex-start;width: 50%;}#sk-container-id-4 div.sk-parallel-item:only-child::after {width: 0;}#sk-container-id-4 div.sk-dashed-wrapped {border: 1px dashed gray;margin: 0 0.4em 0.5em 0.4em;box-sizing: border-box;padding-bottom: 0.4em;background-color: white;}#sk-container-id-4 div.sk-label label {font-family: monospace;font-weight: bold;display: inline-block;line-height: 1.2em;}#sk-container-id-4 div.sk-label-container {text-align: center;}#sk-container-id-4 div.sk-container {/* jupyter's `normalize.less` sets `[hidden] { display: none; }` but bootstrap.min.css set `[hidden] { display: none !important; }` so we also need the `!important` here to be able to override the default hidden behavior on the sphinx rendered scikit-learn.org. See: https://github.com/scikit-learn/scikit-learn/issues/21755 */display: inline-block !important;position: relative;}#sk-container-id-4 div.sk-text-repr-fallback {display: none;}</style><div id=\"sk-container-id-4\" class=\"sk-top-container\"><div class=\"sk-text-repr-fallback\"><pre>StackingRegressor(estimators=[(&#x27;extraTrees&#x27;,\n",
       "                               ExtraTreesRegressor(max_depth=100, n_jobs=-1,\n",
       "                                                   random_state=42))],\n",
       "                  n_jobs=-1)</pre><b>In a Jupyter environment, please rerun this cell to show the HTML representation or trust the notebook. <br />On GitHub, the HTML representation is unable to render, please try loading this page with nbviewer.org.</b></div><div class=\"sk-container\" hidden><div class=\"sk-item sk-dashed-wrapped\"><div class=\"sk-label-container\"><div class=\"sk-label sk-toggleable\"><input class=\"sk-toggleable__control sk-hidden--visually\" id=\"sk-estimator-id-10\" type=\"checkbox\" ><label for=\"sk-estimator-id-10\" class=\"sk-toggleable__label sk-toggleable__label-arrow\">StackingRegressor</label><div class=\"sk-toggleable__content\"><pre>StackingRegressor(estimators=[(&#x27;extraTrees&#x27;,\n",
       "                               ExtraTreesRegressor(max_depth=100, n_jobs=-1,\n",
       "                                                   random_state=42))],\n",
       "                  n_jobs=-1)</pre></div></div></div><div class=\"sk-serial\"><div class=\"sk-item\"><div class=\"sk-parallel\"><div class=\"sk-parallel-item\"><div class=\"sk-item\"><div class=\"sk-label-container\"><div class=\"sk-label sk-toggleable\"><label>extraTrees</label></div></div><div class=\"sk-serial\"><div class=\"sk-item\"><div class=\"sk-estimator sk-toggleable\"><input class=\"sk-toggleable__control sk-hidden--visually\" id=\"sk-estimator-id-11\" type=\"checkbox\" ><label for=\"sk-estimator-id-11\" class=\"sk-toggleable__label sk-toggleable__label-arrow\">ExtraTreesRegressor</label><div class=\"sk-toggleable__content\"><pre>ExtraTreesRegressor(max_depth=100, n_jobs=-1, random_state=42)</pre></div></div></div></div></div></div></div></div><div class=\"sk-item\"><div class=\"sk-parallel\"><div class=\"sk-parallel-item\"><div class=\"sk-item\"><div class=\"sk-label-container\"><div class=\"sk-label sk-toggleable\"><label>final_estimator</label></div></div><div class=\"sk-serial\"><div class=\"sk-item\"><div class=\"sk-estimator sk-toggleable\"><input class=\"sk-toggleable__control sk-hidden--visually\" id=\"sk-estimator-id-12\" type=\"checkbox\" ><label for=\"sk-estimator-id-12\" class=\"sk-toggleable__label sk-toggleable__label-arrow\">RidgeCV</label><div class=\"sk-toggleable__content\"><pre>RidgeCV()</pre></div></div></div></div></div></div></div></div></div></div></div></div>"
      ],
      "text/plain": [
       "StackingRegressor(estimators=[('extraTrees',\n",
       "                               ExtraTreesRegressor(max_depth=100, n_jobs=-1,\n",
       "                                                   random_state=42))],\n",
       "                  n_jobs=-1)"
      ]
     },
     "execution_count": 132,
     "metadata": {},
     "output_type": "execute_result"
    }
   ],
   "source": [
    "model.fit(X_train, y_train)"
   ]
  },
  {
   "cell_type": "code",
   "execution_count": 133,
   "metadata": {},
   "outputs": [
    {
     "name": "stdout",
     "output_type": "stream",
     "text": [
      "Train Score        : 17.94 %\n",
      "Test Score         : 8.91 %\n",
      "R Squared Error    : 0.09\n",
      "Mean Squared Error : 114.9\n"
     ]
    }
   ],
   "source": [
    "print(\"Train Score        :\",round((model.score(X_train, y_train)*100), 2),'%')\n",
    "print(\"Test Score         :\",round((model.score(X_test, y_test)*100), 2),'%')\n",
    "\n",
    "y_pred = model.predict(X_test)\n",
    "\n",
    "print(\"R Squared Error    :\",round(r2_score(y_test, y_pred), 2))\n",
    "print(\"Mean Squared Error :\",round(mean_squared_error(y_test, y_pred), 2))"
   ]
  },
  {
   "cell_type": "code",
   "execution_count": 25,
   "metadata": {},
   "outputs": [
    {
     "name": "stdout",
     "output_type": "stream",
     "text": [
      "        Train Predictions  Actuals        Diff\n",
      "144782          37.861385       41    3.138615\n",
      "117             27.671541       13   14.671541\n",
      "77408          187.212752      339  151.787248\n",
      "62193           19.972180       14    5.972180\n",
      "143901          15.702143        4   11.702143\n",
      "748169.1451298937 / 30030\n"
     ]
    }
   ],
   "source": [
    "train_predictions = model.predict(X_test).flatten()\n",
    "\n",
    "train_results = pd.DataFrame(data={'Train Predictions':train_predictions, 'Actuals':y_test})\n",
    "train_results['Diff'] = abs(train_results['Actuals'] - train_results['Train Predictions'])\n",
    "print(train_results.head(5))\n",
    "print(train_results['Diff'].sum(), '/', len(train_results['Diff']))"
   ]
  },
  {
   "cell_type": "code",
   "execution_count": 26,
   "metadata": {},
   "outputs": [
    {
     "name": "stdout",
     "output_type": "stream",
     "text": [
      "24.914057446882907\n"
     ]
    }
   ],
   "source": [
    "print(train_results['Diff'].mean())"
   ]
  },
  {
   "attachments": {},
   "cell_type": "markdown",
   "metadata": {},
   "source": [
    "# 6. Neural Network"
   ]
  },
  {
   "cell_type": "code",
   "execution_count": 32,
   "metadata": {},
   "outputs": [
    {
     "name": "stdout",
     "output_type": "stream",
     "text": [
      "(3198, 2)\n",
      "(902, 2)\n",
      "(456, 2)\n"
     ]
    },
    {
     "name": "stderr",
     "output_type": "stream",
     "text": [
      "c:\\Users\\indiz\\miniconda3\\envs\\gan\\lib\\site-packages\\numpy\\core\\_methods.py:236: RuntimeWarning: overflow encountered in multiply\n",
      "  x = um.multiply(x, x, out=x)\n",
      "c:\\Users\\indiz\\miniconda3\\envs\\gan\\lib\\site-packages\\numpy\\core\\_methods.py:236: RuntimeWarning: overflow encountered in multiply\n",
      "  x = um.multiply(x, x, out=x)\n",
      "c:\\Users\\indiz\\miniconda3\\envs\\gan\\lib\\site-packages\\numpy\\core\\_methods.py:236: RuntimeWarning: overflow encountered in multiply\n",
      "  x = um.multiply(x, x, out=x)\n"
     ]
    }
   ],
   "source": [
    "X = data.drop(columns=['Units Sold'])\n",
    "Y = data['Units Sold']\n",
    "\n",
    "X_train, X_val, y_train, y_val = train_test_split(X, Y, train_size=0.9, random_state = 42)\n",
    "X_train, X_test, y_train, y_test = train_test_split(X_train, y_train, train_size=0.78, random_state = 42)\n",
    "\n",
    "scalar = PowerTransformer(method='yeo-johnson', standardize=True)\n",
    "# scalar = MinMaxScaler(feature_range=(0,1))\n",
    "X_train = scalar.fit_transform(X_train)\n",
    "X_test = scalar.fit_transform(X_test)\n",
    "X_val = scalar.fit_transform(X_val)\n",
    "\n",
    "print(X_train.shape)\n",
    "print(X_test.shape)\n",
    "print(X_val.shape)"
   ]
  },
  {
   "cell_type": "code",
   "execution_count": 34,
   "metadata": {},
   "outputs": [
    {
     "name": "stdout",
     "output_type": "stream",
     "text": [
      "Model: \"sequential_3\"\n",
      "_________________________________________________________________\n",
      " Layer (type)                Output Shape              Param #   \n",
      "=================================================================\n",
      " gru_3 (GRU)                 (None, 64)                12864     \n",
      "                                                                 \n",
      " dense_3 (Dense)             (None, 1)                 65        \n",
      "                                                                 \n",
      "=================================================================\n",
      "Total params: 12,929\n",
      "Trainable params: 12,929\n",
      "Non-trainable params: 0\n",
      "_________________________________________________________________\n"
     ]
    }
   ],
   "source": [
    "def DNN_Model():\n",
    "    model = Sequential()\n",
    "    model.add(Dense(1024, activation='relu', kernel_initializer='he_uniform', input_shape=(X_train.shape[1],)))\n",
    "    # model.add(Dropout(0.5))\n",
    "    # model.add(Dense(256, activation='relu'))\n",
    "    # model.add(Dropout(0.5))\n",
    "    model.add(Dense(64, activation='relu'))\n",
    "    # model.add(Dropout(0.5))\n",
    "    model.add(Dense(1, activation='linear', kernel_initializer='he_uniform'))\n",
    "    \n",
    "    return model\n",
    "\n",
    "def LSTM_Model():\n",
    "    model = Sequential()\n",
    "    model.add(LSTM(64, return_sequences=True, input_shape=(X_train.shape[1], 1)))\n",
    "    # model.add(LSTM(64))\n",
    "    model.add(Dense(32, activation='relu'))\n",
    "    # model.add(Dropout(0.2))\n",
    "    # model.add(Dropout(0.5))\n",
    "    # model.add(Dense(16, activation='relu'))\n",
    "    model.add(Dense(1))\n",
    "    return model\n",
    "\n",
    "def GRU_Model():\n",
    "    model = Sequential()\n",
    "    # model.add(GRU(64, activation ='tanh', recurrent_activation ='sigmoid', recurrent_dropout = 0, unroll=False, use_bias=True, reset_after=True, return_sequences=True, input_shape = (X_train.shape[1],1)))\n",
    "    model.add(GRU(64, activation ='tanh', recurrent_activation ='sigmoid', recurrent_dropout = 0, unroll=False, use_bias=True, reset_after=True,  input_shape = (X_train.shape[1],1)))\n",
    "    # model.add(GRU(64, activation ='tanh', recurrent_activation ='sigmoid', recurrent_dropout = 0, unroll=False, use_bias=True, reset_after=True))\n",
    "    # model.add(Dense(128, activation='relu'))\n",
    "    # model.add(Dense(64, activation='relu'))\n",
    "    model.add(Dense(1))\n",
    "    return model\n",
    "\n",
    "# model = DNN_Model()\n",
    "# model = LSTM_Model()\n",
    "model = GRU_Model()\n",
    "\n",
    "model.summary()\n",
    "\n",
    "# opt = SGD(learning_rate=0.01, momentum=0.9)\n",
    "opt = Adam(learning_rate = 0.001)\n",
    "\n",
    "# model.compile(loss='mse', optimizer=opt, metrics=['mse'])\n",
    "model.compile(loss='mean_absolute_error', optimizer = opt)"
   ]
  },
  {
   "cell_type": "code",
   "execution_count": 35,
   "metadata": {},
   "outputs": [
    {
     "name": "stdout",
     "output_type": "stream",
     "text": [
      "Epoch 1/50\n",
      "50/50 [==============================] - 1s 10ms/step - loss: 55.8673 - val_loss: 55.6357\n",
      "Epoch 2/50\n",
      "50/50 [==============================] - 0s 5ms/step - loss: 51.5210 - val_loss: 46.2860\n",
      "Epoch 3/50\n",
      "50/50 [==============================] - 0s 5ms/step - loss: 39.1176 - val_loss: 34.6724\n",
      "Epoch 4/50\n",
      "50/50 [==============================] - 0s 4ms/step - loss: 30.8517 - val_loss: 28.6726\n",
      "Epoch 5/50\n",
      "50/50 [==============================] - 0s 4ms/step - loss: 25.8483 - val_loss: 24.7141\n",
      "Epoch 6/50\n",
      "50/50 [==============================] - 0s 4ms/step - loss: 22.7391 - val_loss: 22.5092\n",
      "Epoch 7/50\n",
      "50/50 [==============================] - 0s 4ms/step - loss: 20.8170 - val_loss: 21.1577\n",
      "Epoch 8/50\n",
      "50/50 [==============================] - 0s 4ms/step - loss: 19.5834 - val_loss: 20.1974\n",
      "Epoch 9/50\n",
      "50/50 [==============================] - 0s 3ms/step - loss: 18.7652 - val_loss: 19.5204\n",
      "Epoch 10/50\n",
      "50/50 [==============================] - 0s 4ms/step - loss: 18.2082 - val_loss: 19.0486\n",
      "Epoch 11/50\n",
      "50/50 [==============================] - 0s 3ms/step - loss: 17.8343 - val_loss: 18.7194\n",
      "Epoch 12/50\n",
      "50/50 [==============================] - 0s 4ms/step - loss: 17.5786 - val_loss: 18.4950\n",
      "Epoch 13/50\n",
      "50/50 [==============================] - 0s 5ms/step - loss: 17.4061 - val_loss: 18.3439\n",
      "Epoch 14/50\n",
      "50/50 [==============================] - 0s 3ms/step - loss: 17.2827 - val_loss: 18.2477\n",
      "Epoch 15/50\n",
      "50/50 [==============================] - 0s 3ms/step - loss: 17.2063 - val_loss: 18.1721\n",
      "Epoch 16/50\n",
      "50/50 [==============================] - 0s 3ms/step - loss: 17.1583 - val_loss: 18.1259\n",
      "Epoch 17/50\n",
      "50/50 [==============================] - 0s 3ms/step - loss: 17.1222 - val_loss: 18.0939\n",
      "Epoch 18/50\n",
      "50/50 [==============================] - 0s 3ms/step - loss: 17.1046 - val_loss: 18.0649\n",
      "Epoch 19/50\n",
      "50/50 [==============================] - 0s 3ms/step - loss: 17.0825 - val_loss: 18.0194\n",
      "Epoch 20/50\n",
      "50/50 [==============================] - 0s 4ms/step - loss: 17.0395 - val_loss: 17.8319\n",
      "Epoch 21/50\n",
      "50/50 [==============================] - 0s 3ms/step - loss: 16.9913 - val_loss: 17.7775\n",
      "Epoch 22/50\n",
      "50/50 [==============================] - 0s 3ms/step - loss: 16.9713 - val_loss: 17.7719\n",
      "Epoch 23/50\n",
      "50/50 [==============================] - 0s 3ms/step - loss: 16.9604 - val_loss: 17.7826\n",
      "Epoch 24/50\n",
      "50/50 [==============================] - 0s 4ms/step - loss: 16.9716 - val_loss: 17.7686\n",
      "Epoch 25/50\n",
      "50/50 [==============================] - 0s 4ms/step - loss: 16.9605 - val_loss: 17.7739\n",
      "Epoch 26/50\n",
      "50/50 [==============================] - 0s 3ms/step - loss: 16.9594 - val_loss: 17.7545\n",
      "Epoch 27/50\n",
      "50/50 [==============================] - 0s 3ms/step - loss: 16.9718 - val_loss: 17.7666\n",
      "Epoch 28/50\n",
      "50/50 [==============================] - 0s 3ms/step - loss: 16.9674 - val_loss: 17.7382\n",
      "Epoch 29/50\n",
      "50/50 [==============================] - 0s 3ms/step - loss: 16.9541 - val_loss: 17.7164\n",
      "Epoch 30/50\n",
      "50/50 [==============================] - 0s 3ms/step - loss: 16.9536 - val_loss: 17.7202\n",
      "Epoch 31/50\n",
      "50/50 [==============================] - 0s 4ms/step - loss: 16.9511 - val_loss: 17.7310\n",
      "Epoch 32/50\n",
      "50/50 [==============================] - 0s 3ms/step - loss: 16.9507 - val_loss: 17.7297\n",
      "Epoch 33/50\n",
      "50/50 [==============================] - 0s 3ms/step - loss: 16.9608 - val_loss: 17.7083\n",
      "Epoch 34/50\n",
      "50/50 [==============================] - 0s 4ms/step - loss: 16.9520 - val_loss: 17.7161\n",
      "Epoch 35/50\n",
      "50/50 [==============================] - 0s 3ms/step - loss: 16.9482 - val_loss: 17.7123\n",
      "Epoch 36/50\n",
      "50/50 [==============================] - 0s 4ms/step - loss: 16.9509 - val_loss: 17.7120\n",
      "Epoch 37/50\n",
      "50/50 [==============================] - 0s 4ms/step - loss: 16.9495 - val_loss: 17.7407\n",
      "Epoch 38/50\n",
      "50/50 [==============================] - 0s 4ms/step - loss: 16.9540 - val_loss: 17.7106\n",
      "Epoch 39/50\n",
      "50/50 [==============================] - 0s 3ms/step - loss: 16.9548 - val_loss: 17.7252\n",
      "Epoch 40/50\n",
      "50/50 [==============================] - 0s 3ms/step - loss: 16.9501 - val_loss: 17.7251\n",
      "Epoch 41/50\n",
      "50/50 [==============================] - 0s 3ms/step - loss: 16.9580 - val_loss: 17.7679\n",
      "Epoch 42/50\n",
      "50/50 [==============================] - 0s 3ms/step - loss: 16.9523 - val_loss: 17.7398\n",
      "Epoch 43/50\n",
      "50/50 [==============================] - 0s 3ms/step - loss: 16.9521 - val_loss: 17.7384\n",
      "Epoch 44/50\n",
      "50/50 [==============================] - 0s 3ms/step - loss: 16.9463 - val_loss: 17.7258\n",
      "Epoch 45/50\n",
      "50/50 [==============================] - 0s 3ms/step - loss: 16.9477 - val_loss: 17.7190\n",
      "Epoch 46/50\n",
      "50/50 [==============================] - 0s 3ms/step - loss: 16.9519 - val_loss: 17.7495\n",
      "Epoch 47/50\n",
      "50/50 [==============================] - 0s 3ms/step - loss: 16.9488 - val_loss: 17.7055\n",
      "Epoch 48/50\n",
      "50/50 [==============================] - 0s 4ms/step - loss: 16.9446 - val_loss: 17.7352\n",
      "Epoch 49/50\n",
      "50/50 [==============================] - 0s 4ms/step - loss: 16.9563 - val_loss: 17.7171\n",
      "Epoch 50/50\n",
      "50/50 [==============================] - 0s 3ms/step - loss: 16.9498 - val_loss: 17.7510\n"
     ]
    }
   ],
   "source": [
    "num_epoch = 50\n",
    "batch_size = 64\n",
    "\n",
    "history = model.fit(X_train, y_train, \n",
    "                    batch_size = batch_size, epochs = num_epoch,\n",
    "                    validation_data = (X_val, y_val)\n",
    "                    )"
   ]
  },
  {
   "cell_type": "code",
   "execution_count": 36,
   "metadata": {},
   "outputs": [
    {
     "data": {
      "image/png": "[encoded data removed]",
      "text/plain": [
       "<Figure size 2500x400 with 1 Axes>"
      ]
     },
     "metadata": {},
     "output_type": "display_data"
    }
   ],
   "source": [
    "fig, ax = plt.subplots(figsize=(25, 4))\n",
    "ax.plot(history.history['loss'])\n",
    "ax.plot(history.history['val_loss'])\n",
    "ax.set_title('Accuracy')\n",
    "ax.set_xlabel('Accuracy')\n",
    "ax.set_ylabel('Epoch')\n",
    "\n",
    "plt.legend(['Train', 'Test'])\n",
    "plt.show()"
   ]
  },
  {
   "cell_type": "code",
   "execution_count": 37,
   "metadata": {},
   "outputs": [
    {
     "name": "stdout",
     "output_type": "stream",
     "text": [
      "R Squared Error    : -0.04\n",
      "Mean Squared Error : 441.71\n"
     ]
    }
   ],
   "source": [
    "y_pred = model.predict(X_test, verbose = 0)\n",
    "\n",
    "print(\"R Squared Error    :\",round(r2_score(y_test, y_pred), 2))\n",
    "print(\"Mean Squared Error :\",round(mean_squared_error(y_test, y_pred), 2))"
   ]
  },
  {
   "cell_type": "code",
   "execution_count": 38,
   "metadata": {},
   "outputs": [
    {
     "name": "stdout",
     "output_type": "stream",
     "text": [
      "        Train Predictions  Actuals       Diff\n",
      "8241            53.217976       47   6.217976\n",
      "22669           53.187206       38  15.187206\n",
      "135915          53.151756       58   4.848244\n",
      "28893           53.121449       60   6.878551\n",
      "22115           47.899921       36  11.899921\n",
      "17.114218 - 15437.024\n"
     ]
    }
   ],
   "source": [
    "train_predictions = model.predict(X_test, verbose=0).flatten()\n",
    "\n",
    "train_results = pd.DataFrame(data={'Train Predictions':train_predictions, 'Actuals':y_test})\n",
    "train_results['Diff'] = abs(train_results['Actuals'] - train_results['Train Predictions'])\n",
    "print(train_results.head(5))\n",
    "print(train_results['Diff'].mean(), '-', (train_results['Diff'].sum()))"
   ]
  },
  {
   "cell_type": "code",
   "execution_count": 39,
   "metadata": {},
   "outputs": [
    {
     "data": {
      "text/html": [
       "<div>\n",
       "<style scoped>\n",
       "    .dataframe tbody tr th:only-of-type {\n",
       "        vertical-align: middle;\n",
       "    }\n",
       "\n",
       "    .dataframe tbody tr th {\n",
       "        vertical-align: top;\n",
       "    }\n",
       "\n",
       "    .dataframe thead th {\n",
       "        text-align: right;\n",
       "    }\n",
       "</style>\n",
       "<table border=\"1\" class=\"dataframe\">\n",
       "  <thead>\n",
       "    <tr style=\"text-align: right;\">\n",
       "      <th></th>\n",
       "      <th>Total Price</th>\n",
       "      <th>Base Price</th>\n",
       "      <th>Units Sold</th>\n",
       "      <th>Prediction</th>\n",
       "    </tr>\n",
       "  </thead>\n",
       "  <tbody>\n",
       "    <tr>\n",
       "      <th>4</th>\n",
       "      <td>141.074997</td>\n",
       "      <td>141.074997</td>\n",
       "      <td>52</td>\n",
       "      <td>-7.363810</td>\n",
       "    </tr>\n",
       "    <tr>\n",
       "      <th>6</th>\n",
       "      <td>327.037506</td>\n",
       "      <td>327.037506</td>\n",
       "      <td>47</td>\n",
       "      <td>-6.986985</td>\n",
       "    </tr>\n",
       "    <tr>\n",
       "      <th>7</th>\n",
       "      <td>210.899994</td>\n",
       "      <td>210.899994</td>\n",
       "      <td>50</td>\n",
       "      <td>-7.150609</td>\n",
       "    </tr>\n",
       "    <tr>\n",
       "      <th>8</th>\n",
       "      <td>190.237503</td>\n",
       "      <td>234.412506</td>\n",
       "      <td>82</td>\n",
       "      <td>-7.300456</td>\n",
       "    </tr>\n",
       "    <tr>\n",
       "      <th>11</th>\n",
       "      <td>98.324997</td>\n",
       "      <td>98.324997</td>\n",
       "      <td>40</td>\n",
       "      <td>-7.679315</td>\n",
       "    </tr>\n",
       "    <tr>\n",
       "      <th>...</th>\n",
       "      <td>...</td>\n",
       "      <td>...</td>\n",
       "      <td>...</td>\n",
       "      <td>...</td>\n",
       "    </tr>\n",
       "    <tr>\n",
       "      <th>149953</th>\n",
       "      <td>247.237503</td>\n",
       "      <td>376.912506</td>\n",
       "      <td>64</td>\n",
       "      <td>-7.200465</td>\n",
       "    </tr>\n",
       "    <tr>\n",
       "      <th>149999</th>\n",
       "      <td>232.987503</td>\n",
       "      <td>259.350006</td>\n",
       "      <td>48</td>\n",
       "      <td>-7.154379</td>\n",
       "    </tr>\n",
       "    <tr>\n",
       "      <th>150000</th>\n",
       "      <td>235.837494</td>\n",
       "      <td>253.649994</td>\n",
       "      <td>43</td>\n",
       "      <td>-7.136126</td>\n",
       "    </tr>\n",
       "    <tr>\n",
       "      <th>150024</th>\n",
       "      <td>356.250000</td>\n",
       "      <td>475.237488</td>\n",
       "      <td>36</td>\n",
       "      <td>-6.992160</td>\n",
       "    </tr>\n",
       "    <tr>\n",
       "      <th>150055</th>\n",
       "      <td>357.674988</td>\n",
       "      <td>483.787506</td>\n",
       "      <td>34</td>\n",
       "      <td>-6.991803</td>\n",
       "    </tr>\n",
       "  </tbody>\n",
       "</table>\n",
       "<p>4556 rows × 4 columns</p>\n",
       "</div>"
      ],
      "text/plain": [
       "        Total Price  Base Price  Units Sold  Prediction\n",
       "4        141.074997  141.074997          52   -7.363810\n",
       "6        327.037506  327.037506          47   -6.986985\n",
       "7        210.899994  210.899994          50   -7.150609\n",
       "8        190.237503  234.412506          82   -7.300456\n",
       "11        98.324997   98.324997          40   -7.679315\n",
       "...             ...         ...         ...         ...\n",
       "149953   247.237503  376.912506          64   -7.200465\n",
       "149999   232.987503  259.350006          48   -7.154379\n",
       "150000   235.837494  253.649994          43   -7.136126\n",
       "150024   356.250000  475.237488          36   -6.992160\n",
       "150055   357.674988  483.787506          34   -6.991803\n",
       "\n",
       "[4556 rows x 4 columns]"
      ]
     },
     "execution_count": 39,
     "metadata": {},
     "output_type": "execute_result"
    }
   ],
   "source": [
    "pred_df = data.copy()\n",
    "\n",
    "x_test = pred_df.drop(columns=['Units Sold'])\n",
    "train_predictions = model.predict(x_test, verbose=0).flatten()\n",
    "\n",
    "pred_df['Prediction'] = train_predictions\n",
    "pred_df"
   ]
  }
 ],
 "metadata": {
  "kernelspec": {
   "display_name": "gan",
   "language": "python",
   "name": "python3"
  },
  "language_info": {
   "codemirror_mode": {
    "name": "ipython",
    "version": 3
   },
   "file_extension": ".py",
   "mimetype": "text/x-python",
   "name": "python",
   "nbconvert_exporter": "python",
   "pygments_lexer": "ipython3",
   "version": "3.9.16"
  },
  "orig_nbformat": 4
 },
 "nbformat": 4,
 "nbformat_minor": 2
}
