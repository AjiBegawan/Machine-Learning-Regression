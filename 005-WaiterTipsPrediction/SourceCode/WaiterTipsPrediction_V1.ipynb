{
 "cells": [
  {
   "cell_type": "code",
   "execution_count": 1,
   "metadata": {},
   "outputs": [
    {
     "name": "stdout",
     "output_type": "stream",
     "text": [
      "PhysicalDevice(name='/physical_device:GPU:0', device_type='GPU')\n"
     ]
    }
   ],
   "source": [
    "import tensorflow as tf\n",
    "gpu = tf.config.experimental.list_physical_devices('GPU')\n",
    "tf.config.experimental.set_memory_growth(gpu[0], True)\n",
    "print(gpu[0])"
   ]
  },
  {
   "attachments": {},
   "cell_type": "markdown",
   "metadata": {},
   "source": [
    "# 1. Import Libraries"
   ]
  },
  {
   "cell_type": "code",
   "execution_count": 201,
   "metadata": {},
   "outputs": [],
   "source": [
    "import math\n",
    "import numpy as np\n",
    "import pandas as pd\n",
    "import seaborn as sns\n",
    "import plotly.express as px\n",
    "import matplotlib.pyplot as plt\n",
    "from geopy.distance import distance\n",
    "\n",
    "from tensorflow import keras\n",
    "from tensorflow.keras.models import Sequential\n",
    "from tensorflow.keras.models import load_model\n",
    "from tensorflow.keras.callbacks import ModelCheckpoint\n",
    "from tensorflow.keras.callbacks import ReduceLROnPlateau\n",
    "from tensorflow.keras.optimizers import SGD, Adam,  RMSprop, Nadam\n",
    "from tensorflow.keras.layers import Dense, Flatten,  LSTM, GRU, LeakyReLU, Dropout, Bidirectional\n",
    "\n",
    "from sklearn.preprocessing import LabelEncoder\n",
    "from sklearn.metrics import classification_report \n",
    "from sklearn.model_selection import train_test_split\n",
    "from sklearn.metrics import mean_squared_error, r2_score\n",
    "from sklearn.preprocessing import  MinMaxScaler, PowerTransformer\n",
    "\n",
    "from sklearn.tree import DecisionTreeRegressor\n",
    "from sklearn.neighbors import KNeighborsRegressor\n",
    "from sklearn.ensemble import (\n",
    "    AdaBoostRegressor,\n",
    "    BaggingRegressor,\n",
    "    ExtraTreesRegressor,\n",
    "    GradientBoostingRegressor, \n",
    "    HistGradientBoostingRegressor,\n",
    "    RandomForestRegressor,\n",
    "    StackingRegressor,\n",
    ")\n",
    "from xgboost import XGBRegressor\n",
    "\n",
    "from prophet import Prophet\n",
    "from prophet.plot import plot_plotly, plot_components_plotly\n"
   ]
  },
  {
   "attachments": {},
   "cell_type": "markdown",
   "metadata": {},
   "source": [
    "# 2. Load Data"
   ]
  },
  {
   "cell_type": "code",
   "execution_count": 6,
   "metadata": {},
   "outputs": [
    {
     "data": {
      "text/html": [
       "<div>\n",
       "<style scoped>\n",
       "    .dataframe tbody tr th:only-of-type {\n",
       "        vertical-align: middle;\n",
       "    }\n",
       "\n",
       "    .dataframe tbody tr th {\n",
       "        vertical-align: top;\n",
       "    }\n",
       "\n",
       "    .dataframe thead th {\n",
       "        text-align: right;\n",
       "    }\n",
       "</style>\n",
       "<table border=\"1\" class=\"dataframe\">\n",
       "  <thead>\n",
       "    <tr style=\"text-align: right;\">\n",
       "      <th></th>\n",
       "      <th>total_bill</th>\n",
       "      <th>tip</th>\n",
       "      <th>sex</th>\n",
       "      <th>smoker</th>\n",
       "      <th>day</th>\n",
       "      <th>time</th>\n",
       "      <th>size</th>\n",
       "    </tr>\n",
       "  </thead>\n",
       "  <tbody>\n",
       "    <tr>\n",
       "      <th>0</th>\n",
       "      <td>16.99</td>\n",
       "      <td>1.01</td>\n",
       "      <td>Female</td>\n",
       "      <td>No</td>\n",
       "      <td>Sun</td>\n",
       "      <td>Dinner</td>\n",
       "      <td>2</td>\n",
       "    </tr>\n",
       "    <tr>\n",
       "      <th>1</th>\n",
       "      <td>10.34</td>\n",
       "      <td>1.66</td>\n",
       "      <td>Male</td>\n",
       "      <td>No</td>\n",
       "      <td>Sun</td>\n",
       "      <td>Dinner</td>\n",
       "      <td>3</td>\n",
       "    </tr>\n",
       "    <tr>\n",
       "      <th>2</th>\n",
       "      <td>21.01</td>\n",
       "      <td>3.50</td>\n",
       "      <td>Male</td>\n",
       "      <td>No</td>\n",
       "      <td>Sun</td>\n",
       "      <td>Dinner</td>\n",
       "      <td>3</td>\n",
       "    </tr>\n",
       "    <tr>\n",
       "      <th>3</th>\n",
       "      <td>23.68</td>\n",
       "      <td>3.31</td>\n",
       "      <td>Male</td>\n",
       "      <td>No</td>\n",
       "      <td>Sun</td>\n",
       "      <td>Dinner</td>\n",
       "      <td>2</td>\n",
       "    </tr>\n",
       "    <tr>\n",
       "      <th>4</th>\n",
       "      <td>24.59</td>\n",
       "      <td>3.61</td>\n",
       "      <td>Female</td>\n",
       "      <td>No</td>\n",
       "      <td>Sun</td>\n",
       "      <td>Dinner</td>\n",
       "      <td>4</td>\n",
       "    </tr>\n",
       "    <tr>\n",
       "      <th>...</th>\n",
       "      <td>...</td>\n",
       "      <td>...</td>\n",
       "      <td>...</td>\n",
       "      <td>...</td>\n",
       "      <td>...</td>\n",
       "      <td>...</td>\n",
       "      <td>...</td>\n",
       "    </tr>\n",
       "    <tr>\n",
       "      <th>239</th>\n",
       "      <td>29.03</td>\n",
       "      <td>5.92</td>\n",
       "      <td>Male</td>\n",
       "      <td>No</td>\n",
       "      <td>Sat</td>\n",
       "      <td>Dinner</td>\n",
       "      <td>3</td>\n",
       "    </tr>\n",
       "    <tr>\n",
       "      <th>240</th>\n",
       "      <td>27.18</td>\n",
       "      <td>2.00</td>\n",
       "      <td>Female</td>\n",
       "      <td>Yes</td>\n",
       "      <td>Sat</td>\n",
       "      <td>Dinner</td>\n",
       "      <td>2</td>\n",
       "    </tr>\n",
       "    <tr>\n",
       "      <th>241</th>\n",
       "      <td>22.67</td>\n",
       "      <td>2.00</td>\n",
       "      <td>Male</td>\n",
       "      <td>Yes</td>\n",
       "      <td>Sat</td>\n",
       "      <td>Dinner</td>\n",
       "      <td>2</td>\n",
       "    </tr>\n",
       "    <tr>\n",
       "      <th>242</th>\n",
       "      <td>17.82</td>\n",
       "      <td>1.75</td>\n",
       "      <td>Male</td>\n",
       "      <td>No</td>\n",
       "      <td>Sat</td>\n",
       "      <td>Dinner</td>\n",
       "      <td>2</td>\n",
       "    </tr>\n",
       "    <tr>\n",
       "      <th>243</th>\n",
       "      <td>18.78</td>\n",
       "      <td>3.00</td>\n",
       "      <td>Female</td>\n",
       "      <td>No</td>\n",
       "      <td>Thur</td>\n",
       "      <td>Dinner</td>\n",
       "      <td>2</td>\n",
       "    </tr>\n",
       "  </tbody>\n",
       "</table>\n",
       "<p>244 rows × 7 columns</p>\n",
       "</div>"
      ],
      "text/plain": [
       "     total_bill   tip     sex smoker   day    time  size\n",
       "0         16.99  1.01  Female     No   Sun  Dinner     2\n",
       "1         10.34  1.66    Male     No   Sun  Dinner     3\n",
       "2         21.01  3.50    Male     No   Sun  Dinner     3\n",
       "3         23.68  3.31    Male     No   Sun  Dinner     2\n",
       "4         24.59  3.61  Female     No   Sun  Dinner     4\n",
       "..          ...   ...     ...    ...   ...     ...   ...\n",
       "239       29.03  5.92    Male     No   Sat  Dinner     3\n",
       "240       27.18  2.00  Female    Yes   Sat  Dinner     2\n",
       "241       22.67  2.00    Male    Yes   Sat  Dinner     2\n",
       "242       17.82  1.75    Male     No   Sat  Dinner     2\n",
       "243       18.78  3.00  Female     No  Thur  Dinner     2\n",
       "\n",
       "[244 rows x 7 columns]"
      ]
     },
     "execution_count": 6,
     "metadata": {},
     "output_type": "execute_result"
    }
   ],
   "source": [
    "data = pd.read_csv('../Dataset/tips.csv')\n",
    "data"
   ]
  },
  {
   "attachments": {},
   "cell_type": "markdown",
   "metadata": {},
   "source": [
    "# 3. Initial Analysis"
   ]
  },
  {
   "attachments": {},
   "cell_type": "markdown",
   "metadata": {},
   "source": [
    "### 3.1. Metadata"
   ]
  },
  {
   "cell_type": "code",
   "execution_count": 8,
   "metadata": {},
   "outputs": [
    {
     "name": "stdout",
     "output_type": "stream",
     "text": [
      "<class 'pandas.core.frame.DataFrame'>\n",
      "RangeIndex: 244 entries, 0 to 243\n",
      "Data columns (total 7 columns):\n",
      " #   Column      Non-Null Count  Dtype  \n",
      "---  ------      --------------  -----  \n",
      " 0   total_bill  244 non-null    float64\n",
      " 1   tip         244 non-null    float64\n",
      " 2   sex         244 non-null    object \n",
      " 3   smoker      244 non-null    object \n",
      " 4   day         244 non-null    object \n",
      " 5   time        244 non-null    object \n",
      " 6   size        244 non-null    int64  \n",
      "dtypes: float64(2), int64(1), object(4)\n",
      "memory usage: 13.5+ KB\n"
     ]
    }
   ],
   "source": [
    "data.info()"
   ]
  },
  {
   "cell_type": "code",
   "execution_count": 9,
   "metadata": {},
   "outputs": [
    {
     "data": {
      "text/html": [
       "<div>\n",
       "<style scoped>\n",
       "    .dataframe tbody tr th:only-of-type {\n",
       "        vertical-align: middle;\n",
       "    }\n",
       "\n",
       "    .dataframe tbody tr th {\n",
       "        vertical-align: top;\n",
       "    }\n",
       "\n",
       "    .dataframe thead th {\n",
       "        text-align: right;\n",
       "    }\n",
       "</style>\n",
       "<table border=\"1\" class=\"dataframe\">\n",
       "  <thead>\n",
       "    <tr style=\"text-align: right;\">\n",
       "      <th></th>\n",
       "      <th>count</th>\n",
       "      <th>mean</th>\n",
       "      <th>std</th>\n",
       "      <th>min</th>\n",
       "      <th>25%</th>\n",
       "      <th>50%</th>\n",
       "      <th>75%</th>\n",
       "      <th>max</th>\n",
       "    </tr>\n",
       "  </thead>\n",
       "  <tbody>\n",
       "    <tr>\n",
       "      <th>total_bill</th>\n",
       "      <td>244.0</td>\n",
       "      <td>19.785943</td>\n",
       "      <td>8.902412</td>\n",
       "      <td>3.07</td>\n",
       "      <td>13.3475</td>\n",
       "      <td>17.795</td>\n",
       "      <td>24.1275</td>\n",
       "      <td>50.81</td>\n",
       "    </tr>\n",
       "    <tr>\n",
       "      <th>tip</th>\n",
       "      <td>244.0</td>\n",
       "      <td>2.998279</td>\n",
       "      <td>1.383638</td>\n",
       "      <td>1.00</td>\n",
       "      <td>2.0000</td>\n",
       "      <td>2.900</td>\n",
       "      <td>3.5625</td>\n",
       "      <td>10.00</td>\n",
       "    </tr>\n",
       "    <tr>\n",
       "      <th>size</th>\n",
       "      <td>244.0</td>\n",
       "      <td>2.569672</td>\n",
       "      <td>0.951100</td>\n",
       "      <td>1.00</td>\n",
       "      <td>2.0000</td>\n",
       "      <td>2.000</td>\n",
       "      <td>3.0000</td>\n",
       "      <td>6.00</td>\n",
       "    </tr>\n",
       "  </tbody>\n",
       "</table>\n",
       "</div>"
      ],
      "text/plain": [
       "            count       mean       std   min      25%     50%      75%    max\n",
       "total_bill  244.0  19.785943  8.902412  3.07  13.3475  17.795  24.1275  50.81\n",
       "tip         244.0   2.998279  1.383638  1.00   2.0000   2.900   3.5625  10.00\n",
       "size        244.0   2.569672  0.951100  1.00   2.0000   2.000   3.0000   6.00"
      ]
     },
     "execution_count": 9,
     "metadata": {},
     "output_type": "execute_result"
    }
   ],
   "source": [
    "data.describe().transpose()"
   ]
  },
  {
   "cell_type": "code",
   "execution_count": 10,
   "metadata": {},
   "outputs": [
    {
     "name": "stdout",
     "output_type": "stream",
     "text": [
      "total_bill    0\n",
      "tip           0\n",
      "sex           0\n",
      "smoker        0\n",
      "day           0\n",
      "time          0\n",
      "size          0\n",
      "dtype: int64\n"
     ]
    }
   ],
   "source": [
    "print(data.isnull().sum())"
   ]
  },
  {
   "cell_type": "code",
   "execution_count": 15,
   "metadata": {},
   "outputs": [
    {
     "data": {
      "text/plain": [
       "Dinner    176\n",
       "Lunch      68\n",
       "Name: time, dtype: int64"
      ]
     },
     "execution_count": 15,
     "metadata": {},
     "output_type": "execute_result"
    }
   ],
   "source": [
    "data['time'].value_counts()"
   ]
  },
  {
   "attachments": {},
   "cell_type": "markdown",
   "metadata": {},
   "source": [
    "### 3.2. Columns Processing"
   ]
  },
  {
   "cell_type": "code",
   "execution_count": 17,
   "metadata": {},
   "outputs": [
    {
     "name": "stdout",
     "output_type": "stream",
     "text": [
      "Numerical Columns Train   : ['total_bill', 'tip', 'sex', 'smoker', 'day', 'time', 'size']\n",
      "Categorical Columns Train : []\n"
     ]
    }
   ],
   "source": [
    "numerical_columns = [column_name for column_name in data.columns if data[column_name].dtype != 'object']\n",
    "\n",
    "categorical_columns = [column_name for column_name in data.columns if data[column_name].dtype == 'object']\n",
    "\n",
    "print(f'Numerical Columns Train   : {numerical_columns}')\n",
    "print(f'Categorical Columns Train : {categorical_columns}')"
   ]
  },
  {
   "cell_type": "code",
   "execution_count": 16,
   "metadata": {},
   "outputs": [],
   "source": [
    "le =  LabelEncoder()\n",
    "\n",
    "data['sex'] = le.fit_transform(data['sex'])\n",
    "data['smoker'] = le.fit_transform(data['smoker'])\n",
    "data['day'] = le.fit_transform(data['day'])\n",
    "data['time'] = le.fit_transform(data['time'])"
   ]
  },
  {
   "attachments": {},
   "cell_type": "markdown",
   "metadata": {},
   "source": [
    "# 4. EDA"
   ]
  },
  {
   "cell_type": "code",
   "execution_count": 18,
   "metadata": {},
   "outputs": [
    {
     "data": {
      "text/plain": [
       "Text(0.5, 1.0, 'Correlation Matrix')"
      ]
     },
     "execution_count": 18,
     "metadata": {},
     "output_type": "execute_result"
    },
    {
     "data": {
      "image/png": "[encoded data removed]",
      "text/plain": [
       "<Figure size 1000x500 with 2 Axes>"
      ]
     },
     "metadata": {},
     "output_type": "display_data"
    }
   ],
   "source": [
    "corr_data = data.corr().round(2)\n",
    "\n",
    "plt.figure(figsize=(10, 5))\n",
    "sns.heatmap(corr_data, annot=True, cmap='RdBu')\n",
    "plt.title(\"Correlation Matrix\", size=20)"
   ]
  },
  {
   "attachments": {},
   "cell_type": "markdown",
   "metadata": {},
   "source": [
    "# 5. Regression Algoritms"
   ]
  },
  {
   "cell_type": "code",
   "execution_count": 56,
   "metadata": {},
   "outputs": [
    {
     "name": "stdout",
     "output_type": "stream",
     "text": [
      "(195, 6)\n",
      "(49, 6)\n"
     ]
    }
   ],
   "source": [
    "X = data.drop(columns=['tip'])\n",
    "Y = data['tip']\n",
    "\n",
    "X_train, X_test, y_train, y_test = train_test_split(X, Y, train_size = 0.8, random_state = 42)\n",
    "\n",
    "scalar = PowerTransformer(method='yeo-johnson', standardize=True).fit(X_train)\n",
    "X_train = scalar.transform(X_train)\n",
    "X_test = scalar.transform(X_test)\n",
    "\n",
    "print(X_train.shape)\n",
    "print(X_test.shape)"
   ]
  },
  {
   "cell_type": "code",
   "execution_count": 92,
   "metadata": {},
   "outputs": [],
   "source": [
    "adaboost = AdaBoostRegressor(n_estimators = 100, random_state = 42)\n",
    "bagging = BaggingRegressor(n_jobs = -1)\n",
    "extraTrees = ExtraTreesRegressor(max_depth = 100, n_jobs = -1, random_state = 42)\n",
    "gradient = GradientBoostingRegressor(max_depth = 100, n_estimators = 100, learning_rate = .01,  random_state = 0)\n",
    "randomForest = RandomForestRegressor(max_depth = 100, random_state = 42, n_jobs = -1)\n",
    "histGradientBoosting = HistGradientBoostingRegressor()\n",
    "XGB = XGBRegressor(n_jobs = -1)\n",
    "knn = KNeighborsRegressor(n_jobs = -1)\n",
    "decisionTree = DecisionTreeRegressor( max_depth = 100, random_state = 42)\n",
    "\n",
    "model = StackingRegressor([\n",
    "    ('bagging', bagging),\n",
    "    # ('extraTrees', extraTrees),\n",
    "    # ('randomforest', randomForest),\n",
    "    # ('decisionTree', decisionTree),\n",
    "    # ('adaboost', adaboost),\n",
    "    # ('gradient', gradient),\n",
    "    # ('histGradientBoosting', histGradientBoosting),\n",
    "    # ('XGB', XGB),\n",
    "    # ('knn', knn),\n",
    "\n",
    "], n_jobs=-1)"
   ]
  },
  {
   "cell_type": "code",
   "execution_count": 93,
   "metadata": {},
   "outputs": [
    {
     "data": {
      "text/html": [
       "<style>#sk-container-id-21 {color: black;background-color: white;}#sk-container-id-21 pre{padding: 0;}#sk-container-id-21 div.sk-toggleable {background-color: white;}#sk-container-id-21 label.sk-toggleable__label {cursor: pointer;display: block;width: 100%;margin-bottom: 0;padding: 0.3em;box-sizing: border-box;text-align: center;}#sk-container-id-21 label.sk-toggleable__label-arrow:before {content: \"▸\";float: left;margin-right: 0.25em;color: #696969;}#sk-container-id-21 label.sk-toggleable__label-arrow:hover:before {color: black;}#sk-container-id-21 div.sk-estimator:hover label.sk-toggleable__label-arrow:before {color: black;}#sk-container-id-21 div.sk-toggleable__content {max-height: 0;max-width: 0;overflow: hidden;text-align: left;background-color: #f0f8ff;}#sk-container-id-21 div.sk-toggleable__content pre {margin: 0.2em;color: black;border-radius: 0.25em;background-color: #f0f8ff;}#sk-container-id-21 input.sk-toggleable__control:checked~div.sk-toggleable__content {max-height: 200px;max-width: 100%;overflow: auto;}#sk-container-id-21 input.sk-toggleable__control:checked~label.sk-toggleable__label-arrow:before {content: \"▾\";}#sk-container-id-21 div.sk-estimator input.sk-toggleable__control:checked~label.sk-toggleable__label {background-color: #d4ebff;}#sk-container-id-21 div.sk-label input.sk-toggleable__control:checked~label.sk-toggleable__label {background-color: #d4ebff;}#sk-container-id-21 input.sk-hidden--visually {border: 0;clip: rect(1px 1px 1px 1px);clip: rect(1px, 1px, 1px, 1px);height: 1px;margin: -1px;overflow: hidden;padding: 0;position: absolute;width: 1px;}#sk-container-id-21 div.sk-estimator {font-family: monospace;background-color: #f0f8ff;border: 1px dotted black;border-radius: 0.25em;box-sizing: border-box;margin-bottom: 0.5em;}#sk-container-id-21 div.sk-estimator:hover {background-color: #d4ebff;}#sk-container-id-21 div.sk-parallel-item::after {content: \"\";width: 100%;border-bottom: 1px solid gray;flex-grow: 1;}#sk-container-id-21 div.sk-label:hover label.sk-toggleable__label {background-color: #d4ebff;}#sk-container-id-21 div.sk-serial::before {content: \"\";position: absolute;border-left: 1px solid gray;box-sizing: border-box;top: 0;bottom: 0;left: 50%;z-index: 0;}#sk-container-id-21 div.sk-serial {display: flex;flex-direction: column;align-items: center;background-color: white;padding-right: 0.2em;padding-left: 0.2em;position: relative;}#sk-container-id-21 div.sk-item {position: relative;z-index: 1;}#sk-container-id-21 div.sk-parallel {display: flex;align-items: stretch;justify-content: center;background-color: white;position: relative;}#sk-container-id-21 div.sk-item::before, #sk-container-id-21 div.sk-parallel-item::before {content: \"\";position: absolute;border-left: 1px solid gray;box-sizing: border-box;top: 0;bottom: 0;left: 50%;z-index: -1;}#sk-container-id-21 div.sk-parallel-item {display: flex;flex-direction: column;z-index: 1;position: relative;background-color: white;}#sk-container-id-21 div.sk-parallel-item:first-child::after {align-self: flex-end;width: 50%;}#sk-container-id-21 div.sk-parallel-item:last-child::after {align-self: flex-start;width: 50%;}#sk-container-id-21 div.sk-parallel-item:only-child::after {width: 0;}#sk-container-id-21 div.sk-dashed-wrapped {border: 1px dashed gray;margin: 0 0.4em 0.5em 0.4em;box-sizing: border-box;padding-bottom: 0.4em;background-color: white;}#sk-container-id-21 div.sk-label label {font-family: monospace;font-weight: bold;display: inline-block;line-height: 1.2em;}#sk-container-id-21 div.sk-label-container {text-align: center;}#sk-container-id-21 div.sk-container {/* jupyter's `normalize.less` sets `[hidden] { display: none; }` but bootstrap.min.css set `[hidden] { display: none !important; }` so we also need the `!important` here to be able to override the default hidden behavior on the sphinx rendered scikit-learn.org. See: https://github.com/scikit-learn/scikit-learn/issues/21755 */display: inline-block !important;position: relative;}#sk-container-id-21 div.sk-text-repr-fallback {display: none;}</style><div id=\"sk-container-id-21\" class=\"sk-top-container\"><div class=\"sk-text-repr-fallback\"><pre>StackingRegressor(estimators=[(&#x27;bagging&#x27;, BaggingRegressor(n_jobs=-1))],\n",
       "                  n_jobs=-1)</pre><b>In a Jupyter environment, please rerun this cell to show the HTML representation or trust the notebook. <br />On GitHub, the HTML representation is unable to render, please try loading this page with nbviewer.org.</b></div><div class=\"sk-container\" hidden><div class=\"sk-item sk-dashed-wrapped\"><div class=\"sk-label-container\"><div class=\"sk-label sk-toggleable\"><input class=\"sk-toggleable__control sk-hidden--visually\" id=\"sk-estimator-id-69\" type=\"checkbox\" ><label for=\"sk-estimator-id-69\" class=\"sk-toggleable__label sk-toggleable__label-arrow\">StackingRegressor</label><div class=\"sk-toggleable__content\"><pre>StackingRegressor(estimators=[(&#x27;bagging&#x27;, BaggingRegressor(n_jobs=-1))],\n",
       "                  n_jobs=-1)</pre></div></div></div><div class=\"sk-serial\"><div class=\"sk-item\"><div class=\"sk-parallel\"><div class=\"sk-parallel-item\"><div class=\"sk-item\"><div class=\"sk-label-container\"><div class=\"sk-label sk-toggleable\"><label>bagging</label></div></div><div class=\"sk-serial\"><div class=\"sk-item\"><div class=\"sk-estimator sk-toggleable\"><input class=\"sk-toggleable__control sk-hidden--visually\" id=\"sk-estimator-id-70\" type=\"checkbox\" ><label for=\"sk-estimator-id-70\" class=\"sk-toggleable__label sk-toggleable__label-arrow\">BaggingRegressor</label><div class=\"sk-toggleable__content\"><pre>BaggingRegressor(n_jobs=-1)</pre></div></div></div></div></div></div></div></div><div class=\"sk-item\"><div class=\"sk-parallel\"><div class=\"sk-parallel-item\"><div class=\"sk-item\"><div class=\"sk-label-container\"><div class=\"sk-label sk-toggleable\"><label>final_estimator</label></div></div><div class=\"sk-serial\"><div class=\"sk-item\"><div class=\"sk-estimator sk-toggleable\"><input class=\"sk-toggleable__control sk-hidden--visually\" id=\"sk-estimator-id-71\" type=\"checkbox\" ><label for=\"sk-estimator-id-71\" class=\"sk-toggleable__label sk-toggleable__label-arrow\">RidgeCV</label><div class=\"sk-toggleable__content\"><pre>RidgeCV()</pre></div></div></div></div></div></div></div></div></div></div></div></div>"
      ],
      "text/plain": [
       "StackingRegressor(estimators=[('bagging', BaggingRegressor(n_jobs=-1))],\n",
       "                  n_jobs=-1)"
      ]
     },
     "execution_count": 93,
     "metadata": {},
     "output_type": "execute_result"
    }
   ],
   "source": [
    "model.fit(X_train, y_train)"
   ]
  },
  {
   "cell_type": "code",
   "execution_count": 94,
   "metadata": {},
   "outputs": [
    {
     "name": "stdout",
     "output_type": "stream",
     "text": [
      "Train Score        : 83.17 %\n",
      "Test Score         : 32.02 %\n",
      "R Squared Error    : 0.32\n",
      "Mean Squared Error : 0.85\n"
     ]
    }
   ],
   "source": [
    "print(\"Train Score        :\",round((model.score(X_train, y_train)*100), 2),'%')\n",
    "print(\"Test Score         :\",round((model.score(X_test, y_test)*100), 2),'%')\n",
    "\n",
    "y_pred = model.predict(X_test)\n",
    "\n",
    "print(\"R Squared Error    :\",round(r2_score(y_test, y_pred), 2))\n",
    "print(\"Mean Squared Error :\",round(mean_squared_error(y_test, y_pred), 2))"
   ]
  },
  {
   "cell_type": "code",
   "execution_count": 95,
   "metadata": {},
   "outputs": [
    {
     "name": "stdout",
     "output_type": "stream",
     "text": [
      "     Train Predictions  Actuals      Diff\n",
      "24            2.557448     3.18  0.622552\n",
      "6             2.176343     2.00  0.176343\n",
      "153           3.749832     2.00  1.749832\n",
      "211           3.278767     5.16  1.881233\n",
      "198           2.153444     2.00  0.153444\n",
      "38.54902734622862 / 49\n"
     ]
    }
   ],
   "source": [
    "train_predictions = model.predict(X_test).flatten()\n",
    "\n",
    "train_results = pd.DataFrame(data={'Train Predictions':train_predictions, 'Actuals':y_test})\n",
    "train_results['Diff'] = abs(train_results['Actuals'] - train_results['Train Predictions'])\n",
    "print(train_results.head(5))\n",
    "print(train_results['Diff'].sum(), '/', len(train_results['Diff']))"
   ]
  },
  {
   "cell_type": "code",
   "execution_count": 26,
   "metadata": {},
   "outputs": [
    {
     "name": "stdout",
     "output_type": "stream",
     "text": [
      "0.7984683310069471\n"
     ]
    }
   ],
   "source": [
    "print(train_results['Diff'].mean())"
   ]
  },
  {
   "attachments": {},
   "cell_type": "markdown",
   "metadata": {},
   "source": [
    "# 6. Neural Network"
   ]
  },
  {
   "cell_type": "code",
   "execution_count": 265,
   "metadata": {},
   "outputs": [
    {
     "name": "stdout",
     "output_type": "stream",
     "text": [
      "(170, 6)\n",
      "(49, 6)\n",
      "(25, 6)\n"
     ]
    }
   ],
   "source": [
    "X = data.drop(columns=['tip'])\n",
    "Y = data['tip']\n",
    "\n",
    "X_train, X_val, y_train, y_val = train_test_split(X, Y, train_size=0.9, random_state = 42)\n",
    "X_train, X_test, y_train, y_test = train_test_split(X_train, y_train, train_size=0.78, random_state = 42)\n",
    "\n",
    "scalar = PowerTransformer(method='yeo-johnson', standardize=True)\n",
    "# scalar = MinMaxScaler(feature_range=(0,1))\n",
    "X_train = scalar.fit_transform(X_train)\n",
    "X_test = scalar.fit_transform(X_test)\n",
    "X_val = scalar.fit_transform(X_val)\n",
    "\n",
    "print(X_train.shape)\n",
    "print(X_test.shape)\n",
    "print(X_val.shape)"
   ]
  },
  {
   "cell_type": "code",
   "execution_count": 288,
   "metadata": {},
   "outputs": [
    {
     "name": "stdout",
     "output_type": "stream",
     "text": [
      "Model: \"sequential_33\"\n",
      "_________________________________________________________________\n",
      " Layer (type)                Output Shape              Param #   \n",
      "=================================================================\n",
      " gru_34 (GRU)                (None, 128)               50304     \n",
      "                                                                 \n",
      " dense_64 (Dense)            (None, 1)                 129       \n",
      "                                                                 \n",
      "=================================================================\n",
      "Total params: 50,433\n",
      "Trainable params: 50,433\n",
      "Non-trainable params: 0\n",
      "_________________________________________________________________\n"
     ]
    }
   ],
   "source": [
    "def DNN_Model():\n",
    "    model = Sequential()\n",
    "    model.add(Dense(1024, activation='relu', input_shape=(X_train.shape[1],)))\n",
    "    # model.add(Dropout(0.5))\n",
    "    model.add(Dense(1024, activation='relu'))\n",
    "    # model.add(Dropout(0.5))\n",
    "    model.add(Dense(128, activation='relu'))\n",
    "    # model.add(Dropout(0.5))\n",
    "    model.add(Dense(1))\n",
    "    \n",
    "    return model\n",
    "\n",
    "def LSTM_Model():\n",
    "    model = Sequential()\n",
    "    model.add(LSTM(64, return_sequences=True, input_shape=(X_train.shape[1], 1)))\n",
    "    # model.add(LSTM(64))\n",
    "    model.add(Dense(32, activation='relu'))\n",
    "    # model.add(Dropout(0.2))\n",
    "    # model.add(Dropout(0.5))\n",
    "    # model.add(Dense(16, activation='relu'))\n",
    "    model.add(Dense(1))\n",
    "    return model\n",
    "\n",
    "def GRU_Model():\n",
    "    model = Sequential()\n",
    "    # model.add(GRU(64, activation ='tanh', recurrent_activation ='sigmoid', recurrent_dropout = 0, unroll=False, use_bias=True, reset_after=True, return_sequences=True, input_shape = (X_train.shape[1],1)))\n",
    "    model.add(GRU(128, activation ='tanh', recurrent_activation ='sigmoid', recurrent_dropout = 0, unroll=False, use_bias=True, reset_after=True,  input_shape = (X_train.shape[1],1)))\n",
    "    # model.add(GRU(64, activation ='tanh', recurrent_activation ='sigmoid', recurrent_dropout = 0, unroll=False, use_bias=True, reset_after=True))\n",
    "    # model.add(Dense(128, activation='relu'))\n",
    "    # model.add(Dense(64, activation='relu'))\n",
    "    model.add(Dense(1))\n",
    "    return model\n",
    "\n",
    "# model = DNN_Model()\n",
    "# model = LSTM_Model()\n",
    "model = GRU_Model()\n",
    "\n",
    "model.summary()\n",
    "\n",
    "# opt = RMSprop(learning_rate = 0.001)\n",
    "# opt = SGD(learning_rate = 0.001)\n",
    "opt = Adam(learning_rate = 0.0001)\n",
    "\n",
    "# model.compile(loss='mse', optimizer=opt, metrics=['mse'])\n",
    "model.compile(loss='mean_squared_error', optimizer = opt)"
   ]
  },
  {
   "cell_type": "code",
   "execution_count": 291,
   "metadata": {},
   "outputs": [
    {
     "name": "stdout",
     "output_type": "stream",
     "text": [
      "Epoch 1/100\n",
      "6/6 [==============================] - 0s 15ms/step - loss: 1.2095 - val_loss: 0.7364\n",
      "Epoch 2/100\n",
      "6/6 [==============================] - 0s 9ms/step - loss: 1.2079 - val_loss: 0.7357\n",
      "Epoch 3/100\n",
      "6/6 [==============================] - 0s 12ms/step - loss: 1.2063 - val_loss: 0.7351\n",
      "Epoch 4/100\n",
      "6/6 [==============================] - 0s 11ms/step - loss: 1.2047 - val_loss: 0.7344\n",
      "Epoch 5/100\n",
      "6/6 [==============================] - 0s 12ms/step - loss: 1.2031 - val_loss: 0.7338\n",
      "Epoch 6/100\n",
      "6/6 [==============================] - 0s 9ms/step - loss: 1.2016 - val_loss: 0.7332\n",
      "Epoch 7/100\n",
      "6/6 [==============================] - 0s 9ms/step - loss: 1.2000 - val_loss: 0.7326\n",
      "Epoch 8/100\n",
      "6/6 [==============================] - 0s 8ms/step - loss: 1.1985 - val_loss: 0.7321\n",
      "Epoch 9/100\n",
      "6/6 [==============================] - 0s 8ms/step - loss: 1.1970 - val_loss: 0.7315\n",
      "Epoch 10/100\n",
      "6/6 [==============================] - 0s 8ms/step - loss: 1.1955 - val_loss: 0.7310\n",
      "Epoch 11/100\n",
      "6/6 [==============================] - 0s 8ms/step - loss: 1.1940 - val_loss: 0.7305\n",
      "Epoch 12/100\n",
      "6/6 [==============================] - 0s 8ms/step - loss: 1.1925 - val_loss: 0.7300\n",
      "Epoch 13/100\n",
      "6/6 [==============================] - 0s 8ms/step - loss: 1.1911 - val_loss: 0.7295\n",
      "Epoch 14/100\n",
      "6/6 [==============================] - 0s 8ms/step - loss: 1.1896 - val_loss: 0.7290\n",
      "Epoch 15/100\n",
      "6/6 [==============================] - 0s 11ms/step - loss: 1.1882 - val_loss: 0.7286\n",
      "Epoch 16/100\n",
      "6/6 [==============================] - 0s 7ms/step - loss: 1.1868 - val_loss: 0.7282\n",
      "Epoch 17/100\n",
      "6/6 [==============================] - 0s 7ms/step - loss: 1.1854 - val_loss: 0.7277\n",
      "Epoch 18/100\n",
      "6/6 [==============================] - 0s 7ms/step - loss: 1.1840 - val_loss: 0.7273\n",
      "Epoch 19/100\n",
      "6/6 [==============================] - 0s 14ms/step - loss: 1.1826 - val_loss: 0.7270\n",
      "Epoch 20/100\n",
      "6/6 [==============================] - 0s 11ms/step - loss: 1.1812 - val_loss: 0.7266\n",
      "Epoch 21/100\n",
      "6/6 [==============================] - 0s 13ms/step - loss: 1.1798 - val_loss: 0.7262\n",
      "Epoch 22/100\n",
      "6/6 [==============================] - 0s 9ms/step - loss: 1.1785 - val_loss: 0.7259\n",
      "Epoch 23/100\n",
      "6/6 [==============================] - 0s 11ms/step - loss: 1.1772 - val_loss: 0.7256\n",
      "Epoch 24/100\n",
      "6/6 [==============================] - 0s 10ms/step - loss: 1.1758 - val_loss: 0.7253\n",
      "Epoch 25/100\n",
      "6/6 [==============================] - 0s 8ms/step - loss: 1.1745 - val_loss: 0.7250\n",
      "Epoch 26/100\n",
      "6/6 [==============================] - 0s 8ms/step - loss: 1.1732 - val_loss: 0.7247\n",
      "Epoch 27/100\n",
      "6/6 [==============================] - 0s 7ms/step - loss: 1.1719 - val_loss: 0.7245\n",
      "Epoch 28/100\n",
      "6/6 [==============================] - 0s 7ms/step - loss: 1.1707 - val_loss: 0.7242\n",
      "Epoch 29/100\n",
      "6/6 [==============================] - 0s 8ms/step - loss: 1.1694 - val_loss: 0.7240\n",
      "Epoch 30/100\n",
      "6/6 [==============================] - 0s 8ms/step - loss: 1.1681 - val_loss: 0.7238\n",
      "Epoch 31/100\n",
      "6/6 [==============================] - 0s 7ms/step - loss: 1.1669 - val_loss: 0.7236\n",
      "Epoch 32/100\n",
      "6/6 [==============================] - 0s 8ms/step - loss: 1.1657 - val_loss: 0.7234\n",
      "Epoch 33/100\n",
      "6/6 [==============================] - 0s 8ms/step - loss: 1.1644 - val_loss: 0.7232\n",
      "Epoch 34/100\n",
      "6/6 [==============================] - 0s 8ms/step - loss: 1.1632 - val_loss: 0.7230\n",
      "Epoch 35/100\n",
      "6/6 [==============================] - 0s 8ms/step - loss: 1.1620 - val_loss: 0.7229\n",
      "Epoch 36/100\n",
      "6/6 [==============================] - 0s 8ms/step - loss: 1.1608 - val_loss: 0.7227\n",
      "Epoch 37/100\n",
      "6/6 [==============================] - 0s 8ms/step - loss: 1.1597 - val_loss: 0.7226\n",
      "Epoch 38/100\n",
      "6/6 [==============================] - 0s 8ms/step - loss: 1.1585 - val_loss: 0.7225\n",
      "Epoch 39/100\n",
      "6/6 [==============================] - 0s 8ms/step - loss: 1.1573 - val_loss: 0.7224\n",
      "Epoch 40/100\n",
      "6/6 [==============================] - 0s 7ms/step - loss: 1.1562 - val_loss: 0.7223\n",
      "Epoch 41/100\n",
      "6/6 [==============================] - 0s 7ms/step - loss: 1.1551 - val_loss: 0.7223\n",
      "Epoch 42/100\n",
      "6/6 [==============================] - 0s 8ms/step - loss: 1.1539 - val_loss: 0.7222\n",
      "Epoch 43/100\n",
      "6/6 [==============================] - 0s 7ms/step - loss: 1.1528 - val_loss: 0.7221\n",
      "Epoch 44/100\n",
      "6/6 [==============================] - 0s 8ms/step - loss: 1.1517 - val_loss: 0.7221\n",
      "Epoch 45/100\n",
      "6/6 [==============================] - 0s 11ms/step - loss: 1.1506 - val_loss: 0.7221\n",
      "Epoch 46/100\n",
      "6/6 [==============================] - 0s 8ms/step - loss: 1.1495 - val_loss: 0.7220\n",
      "Epoch 47/100\n",
      "6/6 [==============================] - 0s 8ms/step - loss: 1.1484 - val_loss: 0.7220\n",
      "Epoch 48/100\n",
      "6/6 [==============================] - 0s 8ms/step - loss: 1.1473 - val_loss: 0.7220\n",
      "Epoch 49/100\n",
      "6/6 [==============================] - 0s 7ms/step - loss: 1.1463 - val_loss: 0.7221\n",
      "Epoch 50/100\n",
      "6/6 [==============================] - 0s 8ms/step - loss: 1.1452 - val_loss: 0.7221\n",
      "Epoch 51/100\n",
      "6/6 [==============================] - 0s 8ms/step - loss: 1.1442 - val_loss: 0.7221\n",
      "Epoch 52/100\n",
      "6/6 [==============================] - 0s 7ms/step - loss: 1.1431 - val_loss: 0.7222\n",
      "Epoch 53/100\n",
      "6/6 [==============================] - 0s 9ms/step - loss: 1.1421 - val_loss: 0.7222\n",
      "Epoch 54/100\n",
      "6/6 [==============================] - 0s 8ms/step - loss: 1.1411 - val_loss: 0.7223\n",
      "Epoch 55/100\n",
      "6/6 [==============================] - 0s 7ms/step - loss: 1.1401 - val_loss: 0.7224\n",
      "Epoch 56/100\n",
      "6/6 [==============================] - 0s 8ms/step - loss: 1.1391 - val_loss: 0.7224\n",
      "Epoch 57/100\n",
      "6/6 [==============================] - 0s 8ms/step - loss: 1.1381 - val_loss: 0.7225\n",
      "Epoch 58/100\n",
      "6/6 [==============================] - 0s 7ms/step - loss: 1.1371 - val_loss: 0.7226\n",
      "Epoch 59/100\n",
      "6/6 [==============================] - 0s 8ms/step - loss: 1.1361 - val_loss: 0.7227\n",
      "Epoch 60/100\n",
      "6/6 [==============================] - 0s 8ms/step - loss: 1.1351 - val_loss: 0.7229\n",
      "Epoch 61/100\n",
      "6/6 [==============================] - 0s 7ms/step - loss: 1.1341 - val_loss: 0.7230\n",
      "Epoch 62/100\n",
      "6/6 [==============================] - 0s 7ms/step - loss: 1.1332 - val_loss: 0.7231\n",
      "Epoch 63/100\n",
      "6/6 [==============================] - 0s 7ms/step - loss: 1.1322 - val_loss: 0.7233\n",
      "Epoch 64/100\n",
      "6/6 [==============================] - 0s 7ms/step - loss: 1.1313 - val_loss: 0.7234\n",
      "Epoch 65/100\n",
      "6/6 [==============================] - 0s 7ms/step - loss: 1.1304 - val_loss: 0.7236\n",
      "Epoch 66/100\n",
      "6/6 [==============================] - 0s 8ms/step - loss: 1.1294 - val_loss: 0.7237\n",
      "Epoch 67/100\n",
      "6/6 [==============================] - 0s 8ms/step - loss: 1.1285 - val_loss: 0.7239\n",
      "Epoch 68/100\n",
      "6/6 [==============================] - 0s 7ms/step - loss: 1.1276 - val_loss: 0.7241\n",
      "Epoch 69/100\n",
      "6/6 [==============================] - 0s 7ms/step - loss: 1.1267 - val_loss: 0.7243\n",
      "Epoch 70/100\n",
      "6/6 [==============================] - 0s 8ms/step - loss: 1.1258 - val_loss: 0.7245\n",
      "Epoch 71/100\n",
      "6/6 [==============================] - 0s 7ms/step - loss: 1.1249 - val_loss: 0.7247\n",
      "Epoch 72/100\n",
      "6/6 [==============================] - 0s 8ms/step - loss: 1.1240 - val_loss: 0.7249\n",
      "Epoch 73/100\n",
      "6/6 [==============================] - 0s 8ms/step - loss: 1.1231 - val_loss: 0.7251\n",
      "Epoch 74/100\n",
      "6/6 [==============================] - 0s 12ms/step - loss: 1.1222 - val_loss: 0.7253\n",
      "Epoch 75/100\n",
      "6/6 [==============================] - 0s 7ms/step - loss: 1.1213 - val_loss: 0.7256\n",
      "Epoch 76/100\n",
      "6/6 [==============================] - 0s 7ms/step - loss: 1.1205 - val_loss: 0.7258\n",
      "Epoch 77/100\n",
      "6/6 [==============================] - 0s 8ms/step - loss: 1.1196 - val_loss: 0.7260\n",
      "Epoch 78/100\n",
      "6/6 [==============================] - 0s 7ms/step - loss: 1.1188 - val_loss: 0.7263\n",
      "Epoch 79/100\n",
      "6/6 [==============================] - 0s 8ms/step - loss: 1.1179 - val_loss: 0.7265\n",
      "Epoch 80/100\n",
      "6/6 [==============================] - 0s 7ms/step - loss: 1.1171 - val_loss: 0.7268\n",
      "Epoch 81/100\n",
      "6/6 [==============================] - 0s 10ms/step - loss: 1.1162 - val_loss: 0.7271\n",
      "Epoch 82/100\n",
      "6/6 [==============================] - 0s 7ms/step - loss: 1.1154 - val_loss: 0.7273\n",
      "Epoch 83/100\n",
      "6/6 [==============================] - 0s 8ms/step - loss: 1.1146 - val_loss: 0.7276\n",
      "Epoch 84/100\n",
      "6/6 [==============================] - 0s 7ms/step - loss: 1.1138 - val_loss: 0.7279\n",
      "Epoch 85/100\n",
      "6/6 [==============================] - 0s 8ms/step - loss: 1.1130 - val_loss: 0.7282\n",
      "Epoch 86/100\n",
      "6/6 [==============================] - 0s 7ms/step - loss: 1.1121 - val_loss: 0.7285\n",
      "Epoch 87/100\n",
      "6/6 [==============================] - 0s 8ms/step - loss: 1.1113 - val_loss: 0.7288\n",
      "Epoch 88/100\n",
      "6/6 [==============================] - 0s 8ms/step - loss: 1.1105 - val_loss: 0.7291\n",
      "Epoch 89/100\n",
      "6/6 [==============================] - 0s 8ms/step - loss: 1.1098 - val_loss: 0.7294\n",
      "Epoch 90/100\n",
      "6/6 [==============================] - 0s 8ms/step - loss: 1.1090 - val_loss: 0.7297\n",
      "Epoch 91/100\n",
      "6/6 [==============================] - 0s 8ms/step - loss: 1.1082 - val_loss: 0.7300\n",
      "Epoch 92/100\n",
      "6/6 [==============================] - 0s 8ms/step - loss: 1.1074 - val_loss: 0.7304\n",
      "Epoch 93/100\n",
      "6/6 [==============================] - 0s 7ms/step - loss: 1.1066 - val_loss: 0.7307\n",
      "Epoch 94/100\n",
      "6/6 [==============================] - 0s 6ms/step - loss: 1.1059 - val_loss: 0.7310\n",
      "Epoch 95/100\n",
      "6/6 [==============================] - 0s 7ms/step - loss: 1.1051 - val_loss: 0.7313\n",
      "Epoch 96/100\n",
      "6/6 [==============================] - 0s 8ms/step - loss: 1.1044 - val_loss: 0.7317\n",
      "Epoch 97/100\n",
      "6/6 [==============================] - 0s 8ms/step - loss: 1.1036 - val_loss: 0.7320\n",
      "Epoch 98/100\n",
      "6/6 [==============================] - 0s 10ms/step - loss: 1.1029 - val_loss: 0.7324\n",
      "Epoch 99/100\n",
      "6/6 [==============================] - 0s 11ms/step - loss: 1.1021 - val_loss: 0.7327\n",
      "Epoch 100/100\n",
      "6/6 [==============================] - 0s 10ms/step - loss: 1.1014 - val_loss: 0.7331\n"
     ]
    }
   ],
   "source": [
    "num_epoch = 100\n",
    "batch_size = 32\n",
    "\n",
    "# reduce_lr = ReduceLROnPlateau(monitor='val_loss', factor=0.2, patience=5, min_lr=0.001)\n",
    "\n",
    "history = model.fit(X_train, y_train, \n",
    "                    batch_size = batch_size, epochs = num_epoch,\n",
    "                    validation_data = [X_val, y_val], shuffle=False, verbose = 1,\n",
    "                    # callbacks = [reduce_lr]\n",
    "                    )"
   ]
  },
  {
   "cell_type": "code",
   "execution_count": 292,
   "metadata": {},
   "outputs": [
    {
     "data": {
      "image/png": "[encoded data removed]",
      "text/plain": [
       "<Figure size 2500x400 with 1 Axes>"
      ]
     },
     "metadata": {},
     "output_type": "display_data"
    }
   ],
   "source": [
    "fig, ax = plt.subplots(figsize=(25, 4))\n",
    "ax.plot(history.history['loss'])\n",
    "ax.plot(history.history['val_loss'])\n",
    "ax.set_title('Accuracy')\n",
    "ax.set_xlabel('Accuracy')\n",
    "ax.set_ylabel('Epoch')\n",
    "\n",
    "plt.legend(['Train', 'Test'])\n",
    "plt.show()"
   ]
  },
  {
   "cell_type": "code",
   "execution_count": 252,
   "metadata": {},
   "outputs": [
    {
     "name": "stdout",
     "output_type": "stream",
     "text": [
      "R Squared Error    : 0.16\n",
      "Mean Squared Error : 2.29\n"
     ]
    }
   ],
   "source": [
    "y_pred = model.predict(X_test, verbose = 0)\n",
    "\n",
    "print(\"R Squared Error    :\",round(r2_score(y_test, y_pred), 2))\n",
    "print(\"Mean Squared Error :\",round(mean_squared_error(y_test, y_pred), 2))"
   ]
  },
  {
   "cell_type": "code",
   "execution_count": 253,
   "metadata": {},
   "outputs": [
    {
     "name": "stdout",
     "output_type": "stream",
     "text": [
      "2/2 [==============================] - 0s 2ms/step\n",
      "     Train Predictions  Actuals      Diff\n",
      "91            3.104571     3.50  0.395429\n",
      "90            3.453311     3.00  0.453311\n",
      "92            2.499350     1.00  1.499350\n",
      "179           3.565064     3.55  0.015064\n",
      "75            2.908257     1.25  1.658257\n",
      "1.0950162478855678 - 53.655796146392824\n"
     ]
    }
   ],
   "source": [
    "train_predictions = model.predict(X_test).flatten()\n",
    "\n",
    "train_results = pd.DataFrame(data={'Train Predictions':train_predictions, 'Actuals':y_test})\n",
    "train_results['Diff'] = abs(train_results['Actuals'] - train_results['Train Predictions'])\n",
    "print(train_results.head(5))\n",
    "print(train_results['Diff'].mean(), '-', (train_results['Diff'].sum()))"
   ]
  },
  {
   "cell_type": "code",
   "execution_count": 244,
   "metadata": {},
   "outputs": [
    {
     "name": "stdout",
     "output_type": "stream",
     "text": [
      "8/8 [==============================] - 0s 3ms/step\n"
     ]
    },
    {
     "data": {
      "text/html": [
       "<div>\n",
       "<style scoped>\n",
       "    .dataframe tbody tr th:only-of-type {\n",
       "        vertical-align: middle;\n",
       "    }\n",
       "\n",
       "    .dataframe tbody tr th {\n",
       "        vertical-align: top;\n",
       "    }\n",
       "\n",
       "    .dataframe thead th {\n",
       "        text-align: right;\n",
       "    }\n",
       "</style>\n",
       "<table border=\"1\" class=\"dataframe\">\n",
       "  <thead>\n",
       "    <tr style=\"text-align: right;\">\n",
       "      <th></th>\n",
       "      <th>total_bill</th>\n",
       "      <th>tip</th>\n",
       "      <th>sex</th>\n",
       "      <th>smoker</th>\n",
       "      <th>day</th>\n",
       "      <th>time</th>\n",
       "      <th>size</th>\n",
       "      <th>Prediction</th>\n",
       "    </tr>\n",
       "  </thead>\n",
       "  <tbody>\n",
       "    <tr>\n",
       "      <th>0</th>\n",
       "      <td>16.99</td>\n",
       "      <td>1.01</td>\n",
       "      <td>0</td>\n",
       "      <td>0</td>\n",
       "      <td>2</td>\n",
       "      <td>0</td>\n",
       "      <td>2</td>\n",
       "      <td>2.743862</td>\n",
       "    </tr>\n",
       "    <tr>\n",
       "      <th>1</th>\n",
       "      <td>10.34</td>\n",
       "      <td>1.66</td>\n",
       "      <td>1</td>\n",
       "      <td>0</td>\n",
       "      <td>2</td>\n",
       "      <td>0</td>\n",
       "      <td>3</td>\n",
       "      <td>2.043997</td>\n",
       "    </tr>\n",
       "    <tr>\n",
       "      <th>2</th>\n",
       "      <td>21.01</td>\n",
       "      <td>3.50</td>\n",
       "      <td>1</td>\n",
       "      <td>0</td>\n",
       "      <td>2</td>\n",
       "      <td>0</td>\n",
       "      <td>3</td>\n",
       "      <td>3.325841</td>\n",
       "    </tr>\n",
       "    <tr>\n",
       "      <th>3</th>\n",
       "      <td>23.68</td>\n",
       "      <td>3.31</td>\n",
       "      <td>1</td>\n",
       "      <td>0</td>\n",
       "      <td>2</td>\n",
       "      <td>0</td>\n",
       "      <td>2</td>\n",
       "      <td>3.387666</td>\n",
       "    </tr>\n",
       "    <tr>\n",
       "      <th>4</th>\n",
       "      <td>24.59</td>\n",
       "      <td>3.61</td>\n",
       "      <td>0</td>\n",
       "      <td>0</td>\n",
       "      <td>2</td>\n",
       "      <td>0</td>\n",
       "      <td>4</td>\n",
       "      <td>3.787393</td>\n",
       "    </tr>\n",
       "    <tr>\n",
       "      <th>...</th>\n",
       "      <td>...</td>\n",
       "      <td>...</td>\n",
       "      <td>...</td>\n",
       "      <td>...</td>\n",
       "      <td>...</td>\n",
       "      <td>...</td>\n",
       "      <td>...</td>\n",
       "      <td>...</td>\n",
       "    </tr>\n",
       "    <tr>\n",
       "      <th>239</th>\n",
       "      <td>29.03</td>\n",
       "      <td>5.92</td>\n",
       "      <td>1</td>\n",
       "      <td>0</td>\n",
       "      <td>1</td>\n",
       "      <td>0</td>\n",
       "      <td>3</td>\n",
       "      <td>3.886608</td>\n",
       "    </tr>\n",
       "    <tr>\n",
       "      <th>240</th>\n",
       "      <td>27.18</td>\n",
       "      <td>2.00</td>\n",
       "      <td>0</td>\n",
       "      <td>1</td>\n",
       "      <td>1</td>\n",
       "      <td>0</td>\n",
       "      <td>2</td>\n",
       "      <td>3.625041</td>\n",
       "    </tr>\n",
       "    <tr>\n",
       "      <th>241</th>\n",
       "      <td>22.67</td>\n",
       "      <td>2.00</td>\n",
       "      <td>1</td>\n",
       "      <td>1</td>\n",
       "      <td>1</td>\n",
       "      <td>0</td>\n",
       "      <td>2</td>\n",
       "      <td>3.268810</td>\n",
       "    </tr>\n",
       "    <tr>\n",
       "      <th>242</th>\n",
       "      <td>17.82</td>\n",
       "      <td>1.75</td>\n",
       "      <td>1</td>\n",
       "      <td>0</td>\n",
       "      <td>1</td>\n",
       "      <td>0</td>\n",
       "      <td>2</td>\n",
       "      <td>2.781403</td>\n",
       "    </tr>\n",
       "    <tr>\n",
       "      <th>243</th>\n",
       "      <td>18.78</td>\n",
       "      <td>3.00</td>\n",
       "      <td>0</td>\n",
       "      <td>0</td>\n",
       "      <td>3</td>\n",
       "      <td>0</td>\n",
       "      <td>2</td>\n",
       "      <td>2.999881</td>\n",
       "    </tr>\n",
       "  </tbody>\n",
       "</table>\n",
       "<p>244 rows × 8 columns</p>\n",
       "</div>"
      ],
      "text/plain": [
       "     total_bill   tip  sex  smoker  day  time  size  Prediction\n",
       "0         16.99  1.01    0       0    2     0     2    2.743862\n",
       "1         10.34  1.66    1       0    2     0     3    2.043997\n",
       "2         21.01  3.50    1       0    2     0     3    3.325841\n",
       "3         23.68  3.31    1       0    2     0     2    3.387666\n",
       "4         24.59  3.61    0       0    2     0     4    3.787393\n",
       "..          ...   ...  ...     ...  ...   ...   ...         ...\n",
       "239       29.03  5.92    1       0    1     0     3    3.886608\n",
       "240       27.18  2.00    0       1    1     0     2    3.625041\n",
       "241       22.67  2.00    1       1    1     0     2    3.268810\n",
       "242       17.82  1.75    1       0    1     0     2    2.781403\n",
       "243       18.78  3.00    0       0    3     0     2    2.999881\n",
       "\n",
       "[244 rows x 8 columns]"
      ]
     },
     "execution_count": 244,
     "metadata": {},
     "output_type": "execute_result"
    }
   ],
   "source": [
    "pred_df = data.copy()\n",
    "\n",
    "x_test = pred_df.drop(columns=['tip'])\n",
    "train_predictions = model.predict(x_test).flatten()\n",
    "\n",
    "pred_df['Prediction'] = train_predictions\n",
    "pred_df\n"
   ]
  }
 ],
 "metadata": {
  "kernelspec": {
   "display_name": "gan",
   "language": "python",
   "name": "python3"
  },
  "language_info": {
   "codemirror_mode": {
    "name": "ipython",
    "version": 3
   },
   "file_extension": ".py",
   "mimetype": "text/x-python",
   "name": "python",
   "nbconvert_exporter": "python",
   "pygments_lexer": "ipython3",
   "version": "3.9.16"
  },
  "orig_nbformat": 4
 },
 "nbformat": 4,
 "nbformat_minor": 2
}
